{
 "cells": [
  {
   "cell_type": "markdown",
   "metadata": {},
   "source": [
    "# Iris Species\n",
    "\n",
    "The Iris dataset was used in R.A. Fisher's classic 1936 paper, The Use of Multiple Measurements in Taxonomic Problems, and can also be found on the UCI Machine Learning Repository.\n",
    "\n",
    "It includes three iris species with 50 samples each as well as some properties about each flower. One flower species is linearly separable from the other two, but the other two are not linearly separable from each other.\n",
    "\n",
    "The columns in this dataset are:\n",
    "\n",
    "* Id\n",
    "* SepalLengthCm\n",
    "* SepalWidthCm\n",
    "* PetalLengthCm\n",
    "* PetalWidthCm\n",
    "* Species\n",
    "\n",
    "Source: https://archive.ics.uci.edu/dataset/53/iris"
   ]
  },
  {
   "cell_type": "code",
   "execution_count": 1,
   "metadata": {},
   "outputs": [],
   "source": [
    "import pandas as pd\n",
    "import tensorflow as tf\n",
    "import seaborn as sns\n",
    "import matplotlib.pyplot as plt\n",
    "import numpy as np\n",
    "\n",
    "from sklearn.preprocessing import StandardScaler, MinMaxScaler\n",
    "from sklearn.model_selection import StratifiedKFold, train_test_split\n",
    "from sklearn.metrics import confusion_matrix, accuracy_score"
   ]
  },
  {
   "cell_type": "code",
   "execution_count": 2,
   "metadata": {},
   "outputs": [],
   "source": [
    "df = pd.read_csv(\"dataset/Iris.csv\")"
   ]
  },
  {
   "cell_type": "code",
   "execution_count": 3,
   "metadata": {},
   "outputs": [
    {
     "data": {
      "text/html": [
       "<div>\n",
       "<style scoped>\n",
       "    .dataframe tbody tr th:only-of-type {\n",
       "        vertical-align: middle;\n",
       "    }\n",
       "\n",
       "    .dataframe tbody tr th {\n",
       "        vertical-align: top;\n",
       "    }\n",
       "\n",
       "    .dataframe thead th {\n",
       "        text-align: right;\n",
       "    }\n",
       "</style>\n",
       "<table border=\"1\" class=\"dataframe\">\n",
       "  <thead>\n",
       "    <tr style=\"text-align: right;\">\n",
       "      <th></th>\n",
       "      <th>Id</th>\n",
       "      <th>SepalLengthCm</th>\n",
       "      <th>SepalWidthCm</th>\n",
       "      <th>PetalLengthCm</th>\n",
       "      <th>PetalWidthCm</th>\n",
       "      <th>Species</th>\n",
       "    </tr>\n",
       "  </thead>\n",
       "  <tbody>\n",
       "    <tr>\n",
       "      <th>0</th>\n",
       "      <td>1</td>\n",
       "      <td>5.1</td>\n",
       "      <td>3.5</td>\n",
       "      <td>1.4</td>\n",
       "      <td>0.2</td>\n",
       "      <td>Iris-setosa</td>\n",
       "    </tr>\n",
       "    <tr>\n",
       "      <th>1</th>\n",
       "      <td>2</td>\n",
       "      <td>4.9</td>\n",
       "      <td>3.0</td>\n",
       "      <td>1.4</td>\n",
       "      <td>0.2</td>\n",
       "      <td>Iris-setosa</td>\n",
       "    </tr>\n",
       "    <tr>\n",
       "      <th>2</th>\n",
       "      <td>3</td>\n",
       "      <td>4.7</td>\n",
       "      <td>3.2</td>\n",
       "      <td>1.3</td>\n",
       "      <td>0.2</td>\n",
       "      <td>Iris-setosa</td>\n",
       "    </tr>\n",
       "    <tr>\n",
       "      <th>3</th>\n",
       "      <td>4</td>\n",
       "      <td>4.6</td>\n",
       "      <td>3.1</td>\n",
       "      <td>1.5</td>\n",
       "      <td>0.2</td>\n",
       "      <td>Iris-setosa</td>\n",
       "    </tr>\n",
       "    <tr>\n",
       "      <th>4</th>\n",
       "      <td>5</td>\n",
       "      <td>5.0</td>\n",
       "      <td>3.6</td>\n",
       "      <td>1.4</td>\n",
       "      <td>0.2</td>\n",
       "      <td>Iris-setosa</td>\n",
       "    </tr>\n",
       "  </tbody>\n",
       "</table>\n",
       "</div>"
      ],
      "text/plain": [
       "   Id  SepalLengthCm  SepalWidthCm  PetalLengthCm  PetalWidthCm      Species\n",
       "0   1            5.1           3.5            1.4           0.2  Iris-setosa\n",
       "1   2            4.9           3.0            1.4           0.2  Iris-setosa\n",
       "2   3            4.7           3.2            1.3           0.2  Iris-setosa\n",
       "3   4            4.6           3.1            1.5           0.2  Iris-setosa\n",
       "4   5            5.0           3.6            1.4           0.2  Iris-setosa"
      ]
     },
     "execution_count": 3,
     "metadata": {},
     "output_type": "execute_result"
    }
   ],
   "source": [
    "df.head()"
   ]
  },
  {
   "cell_type": "code",
   "execution_count": 4,
   "metadata": {},
   "outputs": [
    {
     "name": "stdout",
     "output_type": "stream",
     "text": [
      "<class 'pandas.core.frame.DataFrame'>\n",
      "RangeIndex: 150 entries, 0 to 149\n",
      "Data columns (total 6 columns):\n",
      " #   Column         Non-Null Count  Dtype  \n",
      "---  ------         --------------  -----  \n",
      " 0   Id             150 non-null    int64  \n",
      " 1   SepalLengthCm  150 non-null    float64\n",
      " 2   SepalWidthCm   150 non-null    float64\n",
      " 3   PetalLengthCm  150 non-null    float64\n",
      " 4   PetalWidthCm   150 non-null    float64\n",
      " 5   Species        150 non-null    object \n",
      "dtypes: float64(4), int64(1), object(1)\n",
      "memory usage: 7.2+ KB\n"
     ]
    }
   ],
   "source": [
    "df.info()"
   ]
  },
  {
   "cell_type": "code",
   "execution_count": 5,
   "metadata": {},
   "outputs": [],
   "source": [
    "df.rename(columns=dict(zip(df.columns, [col.lower() for col in df])), inplace=True)"
   ]
  },
  {
   "cell_type": "code",
   "execution_count": 6,
   "metadata": {},
   "outputs": [
    {
     "data": {
      "text/html": [
       "<div>\n",
       "<style scoped>\n",
       "    .dataframe tbody tr th:only-of-type {\n",
       "        vertical-align: middle;\n",
       "    }\n",
       "\n",
       "    .dataframe tbody tr th {\n",
       "        vertical-align: top;\n",
       "    }\n",
       "\n",
       "    .dataframe thead th {\n",
       "        text-align: right;\n",
       "    }\n",
       "</style>\n",
       "<table border=\"1\" class=\"dataframe\">\n",
       "  <thead>\n",
       "    <tr style=\"text-align: right;\">\n",
       "      <th></th>\n",
       "      <th># of Unique Species</th>\n",
       "    </tr>\n",
       "    <tr>\n",
       "      <th>species</th>\n",
       "      <th></th>\n",
       "    </tr>\n",
       "  </thead>\n",
       "  <tbody>\n",
       "    <tr>\n",
       "      <th>Iris-setosa</th>\n",
       "      <td>50</td>\n",
       "    </tr>\n",
       "    <tr>\n",
       "      <th>Iris-versicolor</th>\n",
       "      <td>50</td>\n",
       "    </tr>\n",
       "    <tr>\n",
       "      <th>Iris-virginica</th>\n",
       "      <td>50</td>\n",
       "    </tr>\n",
       "  </tbody>\n",
       "</table>\n",
       "</div>"
      ],
      "text/plain": [
       "                 # of Unique Species\n",
       "species                             \n",
       "Iris-setosa                       50\n",
       "Iris-versicolor                   50\n",
       "Iris-virginica                    50"
      ]
     },
     "execution_count": 6,
     "metadata": {},
     "output_type": "execute_result"
    }
   ],
   "source": [
    "df.groupby(\"species\").agg({\"id\": \"nunique\"}).rename(columns={\"id\":\"# of Unique Species\"})"
   ]
  },
  {
   "cell_type": "code",
   "execution_count": 7,
   "metadata": {},
   "outputs": [
    {
     "data": {
      "text/plain": [
       "Index(['id', 'sepallengthcm', 'sepalwidthcm', 'petallengthcm', 'petalwidthcm',\n",
       "       'species'],\n",
       "      dtype='object')"
      ]
     },
     "execution_count": 7,
     "metadata": {},
     "output_type": "execute_result"
    }
   ],
   "source": [
    "df.columns"
   ]
  },
  {
   "cell_type": "code",
   "execution_count": 8,
   "metadata": {},
   "outputs": [
    {
     "data": {
      "image/png": "[encoded data removed]",
      "text/plain": [
       "<Figure size 1000x300 with 4 Axes>"
      ]
     },
     "metadata": {},
     "output_type": "display_data"
    }
   ],
   "source": [
    "fig, ax = plt.subplots(ncols=4, nrows=1, figsize=(10, 3))\n",
    "\n",
    "fig.suptitle(\"Features HistPlot\")\n",
    "\n",
    "sns.histplot(data=df, x=\"sepallengthcm\", ax=ax[0], bins=15)\n",
    "ax[0].set_title(\"Sepal Length (cm)\")\n",
    "\n",
    "sns.histplot(data=df, x=\"sepalwidthcm\", ax=ax[1], bins=15)\n",
    "ax[1].set_title(\"Sepal Width (cm)\")\n",
    "\n",
    "sns.histplot(data=df, x=\"petallengthcm\", ax=ax[2], bins=15)\n",
    "ax[2].set_title(\"Petal Length (cm)\")\n",
    "\n",
    "sns.histplot(data=df, x=\"petalwidthcm\", ax=ax[3], bins=15)\n",
    "ax[3].set_title(\"Petal Width (cm)\")\n",
    "\n",
    "fig.tight_layout()\n",
    "plt.show()"
   ]
  },
  {
   "cell_type": "code",
   "execution_count": 9,
   "metadata": {},
   "outputs": [
    {
     "data": {
      "image/png": "[encoded data removed]",
      "text/plain": [
       "<Figure size 1000x300 with 4 Axes>"
      ]
     },
     "metadata": {},
     "output_type": "display_data"
    }
   ],
   "source": [
    "fig, ax = plt.subplots(ncols=4, nrows=1, figsize=(10, 3))\n",
    "\n",
    "fig.suptitle(\"Features BoxPlot - Species Breakdown\")\n",
    "\n",
    "for i, ax in enumerate(ax.flatten()):\n",
    "    sns.boxplot(data=df, x=\"species\", y=df.columns[1:5][i], ax=ax)\n",
    "    ax.set_title(f\"{df.columns[1:5][i]}\")\n",
    "    ax.set_xlabel('') \n",
    "    ax.tick_params(axis='x', rotation=45)\n",
    "\n",
    "fig.tight_layout()\n",
    "plt.show()"
   ]
  },
  {
   "cell_type": "code",
   "execution_count": 10,
   "metadata": {},
   "outputs": [],
   "source": [
    "df.drop(\"id\", axis=1, inplace=True)"
   ]
  },
  {
   "cell_type": "code",
   "execution_count": null,
   "metadata": {},
   "outputs": [],
   "source": []
  },
  {
   "cell_type": "markdown",
   "metadata": {},
   "source": [
    "## Scaling Features - Only for visualisation"
   ]
  },
  {
   "cell_type": "code",
   "execution_count": 11,
   "metadata": {},
   "outputs": [],
   "source": [
    "scaler = StandardScaler()"
   ]
  },
  {
   "cell_type": "code",
   "execution_count": 12,
   "metadata": {},
   "outputs": [],
   "source": [
    "df_scaled = scaler.fit_transform(df.iloc[:, :-1])"
   ]
  },
  {
   "cell_type": "code",
   "execution_count": 13,
   "metadata": {},
   "outputs": [
    {
     "data": {
      "image/png": "[encoded data removed]",
      "text/plain": [
       "<Figure size 1200x300 with 4 Axes>"
      ]
     },
     "metadata": {},
     "output_type": "display_data"
    }
   ],
   "source": [
    "fig, axes = plt.subplots(ncols=4, nrows=1, figsize=(12, 3))\n",
    "\n",
    "fig.suptitle(\"Features Original vs. Standard Scaled\")\n",
    "\n",
    "for i, ax in enumerate(axes.flatten()):\n",
    "    ax.boxplot(df.iloc[:, i], positions=[0], widths=0.4)\n",
    "    ax.boxplot(df_scaled[:, i], positions=[1], widths=0.4)\n",
    "    \n",
    "    ax.set_xticks([0, 1])\n",
    "    ax.set_xticklabels(['Original', 'Scaled'])\n",
    "    ax.set_title(df.columns[i])\n",
    "\n",
    "plt.tight_layout(rect=[0, 0, 1, 0.96]) \n",
    "plt.show()"
   ]
  },
  {
   "cell_type": "code",
   "execution_count": null,
   "metadata": {},
   "outputs": [],
   "source": []
  },
  {
   "cell_type": "markdown",
   "metadata": {},
   "source": [
    "# Single-layer perceptron"
   ]
  },
  {
   "cell_type": "markdown",
   "metadata": {},
   "source": [
    "### Creating Model - One Layer, Softmax Activation\n",
    "### Steps\n",
    "\n",
    "1. Creating a Model - Layer Weights and Biases\n",
    "2. Define Forward propagation\n",
    "3. Define Loss Function (mean)\n",
    "4. Define Accuracy (mean)\n",
    "5. Define Training (layers, biases, optimizer, train step)"
   ]
  },
  {
   "cell_type": "code",
   "execution_count": 154,
   "metadata": {},
   "outputs": [],
   "source": [
    "def create_model(input_shape, output_shape, seed=42):\n",
    "    \"\"\" Creating a One Layer Model\n",
    "    Args: \n",
    "        input_shape: Input shape, => number of features\n",
    "        output_shape: Output nodes / # of target class\n",
    "        seed: Seed number for random.normal (reproducibility reason)\n",
    "    Returns:\n",
    "        layer_1 and bias_1 tf Variables\n",
    "    \"\"\"\n",
    "\n",
    "    initializer = tf.initializers.RandomNormal(seed=seed)\n",
    "\n",
    "    layer_1 = tf.Variable(initializer(shape=(input_shape, output_shape)), dtype=tf.float32, name=\"Weights_L1\")\n",
    "    bias_1 = tf.Variable(tf.zeros((output_shape,)), name=\"Biases_L1\", dtype=tf.float32)\n",
    "\n",
    "    return layer_1, bias_1"
   ]
  },
  {
   "cell_type": "code",
   "execution_count": 155,
   "metadata": {},
   "outputs": [],
   "source": [
    "@tf.function\n",
    "def forward_pass(input, weight, bias):\n",
    "    \"\"\" Forward pass\n",
    "    Args:\n",
    "        input: Input features\n",
    "        weight: Weights\n",
    "        bias: Biases\n",
    "    Returns:\n",
    "        Softmax of (matmul+bias) layer output\n",
    "    \"\"\"\n",
    "    return tf.nn.softmax(tf.matmul(input, weight) + bias)"
   ]
  },
  {
   "cell_type": "code",
   "execution_count": 156,
   "metadata": {},
   "outputs": [],
   "source": [
    "@tf.function\n",
    "def loss_fn(y_pred, y_true):\n",
    "    \"\"\" Calculate Loss\n",
    "    Args:\n",
    "        y_pred: predictions\n",
    "        y_true: true labels\n",
    "    Returns:\n",
    "        Mean loss    \n",
    "    \"\"\"\n",
    "\n",
    "    return tf.reduce_mean(tf.losses.categorical_crossentropy(y_true, y_pred))"
   ]
  },
  {
   "cell_type": "code",
   "execution_count": 157,
   "metadata": {},
   "outputs": [],
   "source": [
    "@tf.function\n",
    "def accuracy_fn(y_pred, y_true):\n",
    "    \"\"\" Return Accuracy\n",
    "    Args:\n",
    "        y_red: Prediction\n",
    "        y_true: True label\n",
    "    Return: \n",
    "        Mean Accuracy\n",
    "    \"\"\"\n",
    "    correct_prediction = tf.equal(tf.argmax(y_pred, 1), tf.argmax(y_true, 1))\n",
    "    return tf.reduce_mean(tf.cast(correct_prediction, tf.float32))\n",
    "    "
   ]
  },
  {
   "cell_type": "code",
   "execution_count": 158,
   "metadata": {},
   "outputs": [],
   "source": [
    "l1, b1 = create_model(4, 3)\n",
    "initializer = tf.initializers.RandomNormal(seed=42)\n",
    "sample_input = tf.Variable(initializer(shape=(1, 4)), dtype=tf.float32)\n",
    "pred = forward_pass(sample_input, l1, b1)\n",
    "true = tf.Variable(np.array([[0, 1, 0]]))"
   ]
  },
  {
   "cell_type": "code",
   "execution_count": null,
   "metadata": {},
   "outputs": [],
   "source": [
    "loss_fn(pred, true)"
   ]
  },
  {
   "cell_type": "code",
   "execution_count": null,
   "metadata": {},
   "outputs": [],
   "source": [
    "accuracy_fn(pred, true)"
   ]
  },
  {
   "cell_type": "code",
   "execution_count": 161,
   "metadata": {},
   "outputs": [],
   "source": [
    "def train_model(X_train, y_train, X_test, y_test, learning_rate, batch_size, epochs):\n",
    "    layer_1, layer_1_bias = create_model(X_train.shape[1], y_train.shape[1])\n",
    "    optimizer = tf.keras.optimizers.Adam(learning_rate=learning_rate)\n",
    "    \n",
    "    @tf.function\n",
    "    def train_step(inputs, targets):\n",
    "        with tf.GradientTape() as tape:\n",
    "            predictions = forward_pass(inputs, layer_1, layer_1_bias)\n",
    "            loss = loss_fn(targets, predictions)\n",
    "\n",
    "        gradients = tape.gradient(loss, [layer_1, layer_1_bias])\n",
    "        optimizer.apply_gradients(zip(gradients, [layer_1, layer_1_bias]))\n",
    "        return loss\n",
    "\n",
    "    best_test_accuracy = 0\n",
    "    for epoch in range(epochs):\n",
    "        for step in range(0, len(X_train), batch_size):\n",
    "            x_batch = X_train[step:step+batch_size]\n",
    "            y_batch = y_train[step:step+batch_size]\n",
    "            loss = train_step(x_batch, y_batch)\n",
    "        \n",
    "        val_predictions = forward_pass(X_test, layer_1, layer_1_bias)\n",
    "        val_accuracy = accuracy_fn(y_test, val_predictions)\n",
    "        if val_accuracy > best_test_accuracy:\n",
    "            best_test_accuracy = val_accuracy\n",
    "    \n",
    "    return best_test_accuracy"
   ]
  },
  {
   "cell_type": "code",
   "execution_count": 162,
   "metadata": {},
   "outputs": [],
   "source": [
    "X = df.iloc[:, :-1]\n",
    "y = df.iloc[:, -1]"
   ]
  },
  {
   "cell_type": "code",
   "execution_count": 163,
   "metadata": {},
   "outputs": [],
   "source": [
    "skf = StratifiedKFold(n_splits=5, shuffle=True)"
   ]
  },
  {
   "cell_type": "code",
   "execution_count": null,
   "metadata": {},
   "outputs": [],
   "source": [
    "learning_rates = [0.0001, 0.001, 0.01, 0.1]\n",
    "batch_sizes = [16, 32, 64]\n",
    "epochs_list = [5, 50, 100, 200]\n",
    "\n",
    "params = []\n",
    "accuracy_list = []\n",
    "\n",
    "for lr in learning_rates:\n",
    "    for bs in batch_sizes:\n",
    "        for epochs in epochs_list: ## Test Combinations on 5 fold\n",
    "            accuracy_current_config = []\n",
    "\n",
    "            for i, (train_index, test_index) in enumerate(skf.split(X, y)):\n",
    "\n",
    "                X_train, y_train = X.iloc[train_index], y.iloc[train_index]\n",
    "                X_test, y_test = X.iloc[test_index], y.iloc[test_index]\n",
    "\n",
    "                y_train = pd.get_dummies(y_train).astype(\"float32\")\n",
    "                y_test = pd.get_dummies(y_test).astype(\"float32\")\n",
    "\n",
    "                scaler = StandardScaler()\n",
    "\n",
    "                X_train = scaler.fit_transform(X_train).astype(\"float32\")\n",
    "                X_test = scaler.transform(X_test).astype(\"float32\")\n",
    "\n",
    "                val_accuracy = train_model(X_train, y_train, X_test, y_test, lr, bs, epochs)\n",
    "                accuracy_current_config.append(val_accuracy)\n",
    "            \n",
    "            accuracy_list.append(accuracy_current_config)\n",
    "            params.append([lr, bs, epochs])\n",
    "            \n",
    "            print(f\"LR: {lr}, Batch Size: {bs}, Epochs: {epochs}, Val Accuracy: {np.mean(accuracy_current_config):.4f}\")\n"
   ]
  },
  {
   "cell_type": "code",
   "execution_count": null,
   "metadata": {},
   "outputs": [],
   "source": [
    "print(f\"Best 5 fold mean accuracy: {round(np.max(np.mean(np.array(accuracy_list), axis=1)), 4)}\")"
   ]
  },
  {
   "cell_type": "code",
   "execution_count": 166,
   "metadata": {},
   "outputs": [],
   "source": [
    "best_params = params[np.argmax(np.mean(np.array(accuracy_list), axis=1))]"
   ]
  },
  {
   "cell_type": "code",
   "execution_count": 202,
   "metadata": {},
   "outputs": [],
   "source": [
    "X_train, X_test, y_train, y_test = train_test_split(X, y, test_size=0.2, stratify=y, random_state=42)\n",
    "\n",
    "y_train = pd.get_dummies(y_train).astype(\"float32\")\n",
    "y_test = pd.get_dummies(y_test).astype(\"float32\")"
   ]
  },
  {
   "cell_type": "code",
   "execution_count": 203,
   "metadata": {},
   "outputs": [],
   "source": [
    "scaler = StandardScaler()\n",
    "\n",
    "X_train = scaler.fit_transform(X_train).astype(\"float32\")\n",
    "X_test = scaler.transform(X_test).astype(\"float32\")"
   ]
  },
  {
   "cell_type": "code",
   "execution_count": 204,
   "metadata": {},
   "outputs": [],
   "source": [
    "final_layer_1, final_layer_1_bias = create_model(X_train.shape[1], y_train.shape[1])\n",
    "final_optimizer = tf.keras.optimizers.Adam(learning_rate=best_params[0])"
   ]
  },
  {
   "cell_type": "code",
   "execution_count": 205,
   "metadata": {},
   "outputs": [],
   "source": [
    "@tf.function\n",
    "def final_train_step(inputs, targets):\n",
    "    with tf.GradientTape() as tape:\n",
    "        predictions = forward_pass(inputs, final_layer_1, final_layer_1_bias)\n",
    "        loss = loss_fn(targets, predictions)\n",
    "    gradients = tape.gradient(loss, [final_layer_1, final_layer_1_bias])\n",
    "    final_optimizer.apply_gradients(zip(gradients, [final_layer_1, final_layer_1_bias]))\n",
    "    return loss"
   ]
  },
  {
   "cell_type": "code",
   "execution_count": null,
   "metadata": {},
   "outputs": [],
   "source": [
    "for epoch in range(best_params[2]):\n",
    "    for step in range(0, len(X_train), best_params[1]):\n",
    "        x_batch = X_train[step:step+best_params[1]]\n",
    "        y_batch = y_train[step:step+best_params[1]]\n",
    "        loss = final_train_step(x_batch, y_batch)\n",
    "\n",
    "test_predictions = forward_pass(X_test, final_layer_1, final_layer_1_bias)\n",
    "test_accuracy = accuracy_fn(y_test, test_predictions)\n",
    "print(f\"Final test accuracy: {test_accuracy:.4f}\")"
   ]
  },
  {
   "cell_type": "code",
   "execution_count": null,
   "metadata": {},
   "outputs": [],
   "source": [
    "final_layer_1"
   ]
  },
  {
   "cell_type": "code",
   "execution_count": null,
   "metadata": {},
   "outputs": [],
   "source": [
    "final_layer_1_bias"
   ]
  },
  {
   "cell_type": "code",
   "execution_count": null,
   "metadata": {},
   "outputs": [],
   "source": [
    "plt.figure(figsize=(8, 5))\n",
    "plt.imshow(final_layer_1, cmap='viridis', aspect='auto')\n",
    "plt.colorbar(label='Weight value')\n",
    "plt.title('Weights of the Layer-1')\n",
    "plt.xlabel('Node index')\n",
    "plt.ylabel('Input feature index')\n",
    "plt.xticks(ticks=np.arange(final_layer_1.shape[1]), labels=[f'Node {i+1}' for i in range(final_layer_1.shape[1])])\n",
    "plt.yticks(ticks=np.arange(final_layer_1.shape[0]), labels=[f'Feature {i+1}' for i in range(final_layer_1.shape[0])])\n",
    "plt.show()"
   ]
  },
  {
   "cell_type": "code",
   "execution_count": 210,
   "metadata": {},
   "outputs": [],
   "source": [
    "y_pred = tf.argmax(test_predictions, axis=1).numpy()\n",
    "y_true = tf.argmax(y_test, axis=1).numpy()\n",
    "\n",
    "cm = confusion_matrix(y_true, y_pred)\n",
    "accuracy = accuracy_score(y_true, y_pred)"
   ]
  },
  {
   "cell_type": "code",
   "execution_count": null,
   "metadata": {},
   "outputs": [],
   "source": [
    "plt.figure(figsize=(5, 3))\n",
    "sns.heatmap(cm, annot=True, fmt='d', cmap='Blues')\n",
    "plt.title('Confusion Matrix')\n",
    "plt.ylabel('True label')\n",
    "plt.xlabel('Predicted label')\n",
    "plt.show()\n",
    "\n",
    "print(f\"Validation Accuracy: {accuracy:.4f}\")"
   ]
  },
  {
   "cell_type": "code",
   "execution_count": null,
   "metadata": {},
   "outputs": [],
   "source": [
    "precision = cm.diagonal() / cm.sum(axis=0)\n",
    "recall = cm.diagonal() / cm.sum(axis=1)\n",
    "f1_score = 2 * (precision * recall) / (precision + recall)\n",
    "output_nodes = 3\n",
    "\n",
    "for i in range(output_nodes):\n",
    "    print(f\"Class {i}:\")\n",
    "    print(f\"  Precision: {precision[i]:.4f}\")\n",
    "    print(f\"  Recall: {recall[i]:.4f}\")\n",
    "    print(f\"  F1-score: {f1_score[i]:.4f}\")\n",
    "\n",
    "print(f\"\\nMacro-average F1-score: {np.mean(f1_score):.4f}\")"
   ]
  },
  {
   "cell_type": "markdown",
   "metadata": {},
   "source": [
    "# Summary \n",
    "\n",
    "The accuracy looks nice on 5 Fold, ~ 98%, time to test MLP!"
   ]
  },
  {
   "cell_type": "code",
   "execution_count": null,
   "metadata": {},
   "outputs": [],
   "source": []
  },
  {
   "cell_type": "markdown",
   "metadata": {},
   "source": [
    "# Multilayer perceptron"
   ]
  },
  {
   "cell_type": "markdown",
   "metadata": {},
   "source": [
    "### Creating Model - Two-Three Layer, Relu then Softmax Activation\n",
    "### Steps\n",
    "\n",
    "1. Creating a Model - Layer Weights and Biases\n",
    "2. Define Forward propagation\n",
    "3. Define Loss Function (mean)\n",
    "4. Define Accuracy (mean)\n",
    "5. Define Training (layers, biases, optimizer, train step)"
   ]
  },
  {
   "cell_type": "code",
   "execution_count": 14,
   "metadata": {},
   "outputs": [],
   "source": [
    "def create_model(input_shape, output_shape, hidden_layer_nodes=tuple, seed=42):\n",
    "    \"\"\" Define Model architecture\n",
    "    Args:\n",
    "        input_shape: input layer shape (number of nodes)\n",
    "        output_shape: output layer shape (number of nodes) \n",
    "        hidden_layer_nodes: hidden layer shapes (number of hidden nodes in a list)\n",
    "    Return:\n",
    "        layers, biases    \n",
    "    \"\"\"\n",
    "\n",
    "    layers = []\n",
    "    biases = []\n",
    "\n",
    "    initializer = tf.initializers.RandomNormal(seed=seed)\n",
    "\n",
    "    l_input_w = tf.Variable(initializer(shape=(input_shape, hidden_layer_nodes[0])), dtype=tf.float32, name=\"Weights_input\")\n",
    "    l_input_b = tf.Variable(tf.zeros(shape=(hidden_layer_nodes[0], )), dtype=tf.float32, name=\"Biases_input\")\n",
    "\n",
    "    layers.append(l_input_w)\n",
    "    biases.append(l_input_b)\n",
    "\n",
    "    for i in range(len(hidden_layer_nodes)):\n",
    "        if i != len(hidden_layer_nodes)-1:\n",
    "            l_w = tf.Variable(initializer(shape=(hidden_layer_nodes[i], hidden_layer_nodes[i+1])), dtype=tf.float32, name=f\"Weights_l{i+1}\")\n",
    "            l_b = tf.Variable(tf.zeros(shape=(hidden_layer_nodes[i+1],)), dtype=tf.float32, name=f\"Biases_l{i+1}\")     \n",
    "\n",
    "            layers.append(l_w)\n",
    "            biases.append(l_b)\n",
    "\n",
    "        else:\n",
    "            l_w = tf.Variable(initializer(shape=(hidden_layer_nodes[i], output_shape)), dtype=tf.float32, name=\"Weights_output\")\n",
    "            l_b = tf.Variable(tf.zeros(shape=(output_shape,)), dtype=tf.float32, name=\"Biases_output\")\n",
    "        \n",
    "            layers.append(l_w)\n",
    "            biases.append(l_b)\n",
    "    \n",
    "\n",
    "    return layers, biases\n"
   ]
  },
  {
   "cell_type": "code",
   "execution_count": 15,
   "metadata": {},
   "outputs": [],
   "source": [
    "layers, biases = create_model(4, 3, (4, 4))"
   ]
  },
  {
   "cell_type": "code",
   "execution_count": 16,
   "metadata": {},
   "outputs": [
    {
     "data": {
      "text/plain": [
       "[<tf.Variable 'Weights_input:0' shape=(4, 4) dtype=float32, numpy=\n",
       " array([[ 0.00079085, -0.07950435,  0.00517972,  0.0405873 ],\n",
       "        [-0.08051775, -0.07895523,  0.03320629,  0.01739371],\n",
       "        [ 0.0328981 ,  0.09575269,  0.01707336,  0.00210763],\n",
       "        [ 0.06077656,  0.00131572, -0.03984767,  0.00479649]],\n",
       "       dtype=float32)>,\n",
       " <tf.Variable 'Weights_l1:0' shape=(4, 4) dtype=float32, numpy=\n",
       " array([[ 0.00079085, -0.07950435,  0.00517972,  0.0405873 ],\n",
       "        [-0.08051775, -0.07895523,  0.03320629,  0.01739371],\n",
       "        [ 0.0328981 ,  0.09575269,  0.01707336,  0.00210763],\n",
       "        [ 0.06077656,  0.00131572, -0.03984767,  0.00479649]],\n",
       "       dtype=float32)>,\n",
       " <tf.Variable 'Weights_output:0' shape=(4, 3) dtype=float32, numpy=\n",
       " array([[ 0.00079085, -0.07950435,  0.00517972],\n",
       "        [ 0.0405873 , -0.08051775, -0.07895523],\n",
       "        [ 0.03320629,  0.01739371,  0.0328981 ],\n",
       "        [ 0.09575269,  0.01707336,  0.00210763]], dtype=float32)>]"
      ]
     },
     "execution_count": 16,
     "metadata": {},
     "output_type": "execute_result"
    }
   ],
   "source": [
    "layers"
   ]
  },
  {
   "cell_type": "code",
   "execution_count": 17,
   "metadata": {},
   "outputs": [
    {
     "data": {
      "text/plain": [
       "[<tf.Variable 'Biases_input:0' shape=(4,) dtype=float32, numpy=array([0., 0., 0., 0.], dtype=float32)>,\n",
       " <tf.Variable 'Biases_l1:0' shape=(4,) dtype=float32, numpy=array([0., 0., 0., 0.], dtype=float32)>,\n",
       " <tf.Variable 'Biases_output:0' shape=(3,) dtype=float32, numpy=array([0., 0., 0.], dtype=float32)>]"
      ]
     },
     "execution_count": 17,
     "metadata": {},
     "output_type": "execute_result"
    }
   ],
   "source": [
    "biases"
   ]
  },
  {
   "cell_type": "code",
   "execution_count": 18,
   "metadata": {},
   "outputs": [],
   "source": [
    "@tf.function\n",
    "def forward_pass(input, layers, biases):\n",
    "\n",
    "    for i in range(len(layers)):\n",
    "        if i == 0:\n",
    "            x = tf.nn.relu(tf.matmul(input, layers[i]) + biases[i])\n",
    "        elif i == len(layers)-1:\n",
    "            x = tf.matmul(x, layers[i]) + biases[i]\n",
    "        else:\n",
    "            x = tf.nn.relu(tf.matmul(x, layers[i]) + biases[i])\n",
    "\n",
    "    return tf.nn.softmax(x)"
   ]
  },
  {
   "cell_type": "code",
   "execution_count": 19,
   "metadata": {},
   "outputs": [],
   "source": [
    "@tf.function\n",
    "def loss_fn(y_true, y_pred):\n",
    "    return tf.reduce_mean(tf.keras.losses.categorical_crossentropy(y_true, y_pred))"
   ]
  },
  {
   "cell_type": "code",
   "execution_count": 27,
   "metadata": {},
   "outputs": [],
   "source": [
    "def train_model(X_train, y_train, X_test, y_test, hidden_layer_nodes, learning_rate, batch_size, epochs):\n",
    "    optimizer = tf.keras.optimizers.Adam(learning_rate=learning_rate)\n",
    "    layers, biases = create_model(X_train.shape[1], y_train.shape[1], hidden_layer_nodes=hidden_layer_nodes)\n",
    "\n",
    "    @tf.function\n",
    "    def train_step(inputs, targets, layers, biases, optimizer):\n",
    "        with tf.GradientTape() as tape:\n",
    "            predictions = forward_pass(inputs, layers, biases)\n",
    "            loss = loss_fn(targets, predictions)\n",
    "        \n",
    "        gradients = tape.gradient(loss, layers+biases)\n",
    "        optimizer.apply_gradients(zip(gradients, layers+biases))\n",
    "        \n",
    "        return loss\n",
    "    \n",
    "    best_test_accuracy = 0\n",
    "    for epoch in range(epochs):\n",
    "        for step in range(0, len(X_train), batch_size):\n",
    "            x_batch = X_train[step:step + batch_size]\n",
    "            y_batch = y_train[step:step + batch_size]\n",
    "            loss = train_step(x_batch, y_batch, layers, biases, optimizer)\n",
    "        \n",
    "        test_predictions = forward_pass(X_test, layers, biases)\n",
    "        test_accuracy = accuracy_fn(y_test, test_predictions)\n",
    "        if test_accuracy > best_test_accuracy:\n",
    "            best_test_accuracy = test_accuracy\n",
    "    \n",
    "    return best_test_accuracy"
   ]
  },
  {
   "cell_type": "code",
   "execution_count": 28,
   "metadata": {},
   "outputs": [],
   "source": [
    "def accuracy_fn(y_true, y_pred):\n",
    "    correct_prediction = tf.equal(tf.argmax(y_pred, 1), tf.argmax(y_true, 1))\n",
    "    return tf.reduce_mean(tf.cast(correct_prediction, tf.float32))"
   ]
  },
  {
   "cell_type": "code",
   "execution_count": 29,
   "metadata": {},
   "outputs": [],
   "source": [
    "skf = StratifiedKFold(n_splits=5)"
   ]
  },
  {
   "cell_type": "code",
   "execution_count": 30,
   "metadata": {},
   "outputs": [
    {
     "name": "stdout",
     "output_type": "stream",
     "text": [
      "tf.Tensor(0.33333334, shape=(), dtype=float32)\n",
      "tf.Tensor(0.33333334, shape=(), dtype=float32)\n",
      "tf.Tensor(0.33333334, shape=(), dtype=float32)\n",
      "tf.Tensor(0.33333334, shape=(), dtype=float32)\n",
      "tf.Tensor(0.33333334, shape=(), dtype=float32)\n",
      "LR: 0.0001, Batch Size: 16, Epochs: 5, Hidden Layers: (4, 4), Val Accuracy: 0.3333\n",
      "tf.Tensor(0.33333334, shape=(), dtype=float32)\n",
      "tf.Tensor(0.33333334, shape=(), dtype=float32)\n",
      "tf.Tensor(0.33333334, shape=(), dtype=float32)\n",
      "tf.Tensor(0.33333334, shape=(), dtype=float32)\n",
      "tf.Tensor(0.33333334, shape=(), dtype=float32)\n",
      "LR: 0.0001, Batch Size: 16, Epochs: 5, Hidden Layers: (4, 4, 4), Val Accuracy: 0.3333\n",
      "tf.Tensor(0.6666667, shape=(), dtype=float32)\n",
      "tf.Tensor(0.6666667, shape=(), dtype=float32)\n",
      "tf.Tensor(0.6666667, shape=(), dtype=float32)\n",
      "tf.Tensor(0.6666667, shape=(), dtype=float32)\n",
      "tf.Tensor(0.6333333, shape=(), dtype=float32)\n",
      "LR: 0.0001, Batch Size: 16, Epochs: 50, Hidden Layers: (4, 4), Val Accuracy: 0.6600\n",
      "tf.Tensor(0.56666666, shape=(), dtype=float32)\n",
      "tf.Tensor(0.56666666, shape=(), dtype=float32)\n",
      "tf.Tensor(0.6, shape=(), dtype=float32)\n",
      "tf.Tensor(0.56666666, shape=(), dtype=float32)\n",
      "tf.Tensor(0.6, shape=(), dtype=float32)\n",
      "LR: 0.0001, Batch Size: 16, Epochs: 50, Hidden Layers: (4, 4, 4), Val Accuracy: 0.5800\n",
      "tf.Tensor(0.6666667, shape=(), dtype=float32)\n",
      "tf.Tensor(0.6666667, shape=(), dtype=float32)\n",
      "tf.Tensor(0.6666667, shape=(), dtype=float32)\n",
      "tf.Tensor(0.6666667, shape=(), dtype=float32)\n",
      "tf.Tensor(0.6666667, shape=(), dtype=float32)\n",
      "LR: 0.0001, Batch Size: 16, Epochs: 100, Hidden Layers: (4, 4), Val Accuracy: 0.6667\n",
      "tf.Tensor(0.6666667, shape=(), dtype=float32)\n",
      "tf.Tensor(0.6666667, shape=(), dtype=float32)\n",
      "tf.Tensor(0.6666667, shape=(), dtype=float32)\n",
      "tf.Tensor(0.6666667, shape=(), dtype=float32)\n",
      "tf.Tensor(0.6666667, shape=(), dtype=float32)\n",
      "LR: 0.0001, Batch Size: 16, Epochs: 100, Hidden Layers: (4, 4, 4), Val Accuracy: 0.6667\n",
      "tf.Tensor(0.6666667, shape=(), dtype=float32)\n",
      "tf.Tensor(0.6666667, shape=(), dtype=float32)\n",
      "tf.Tensor(0.6666667, shape=(), dtype=float32)\n",
      "tf.Tensor(0.6666667, shape=(), dtype=float32)\n",
      "tf.Tensor(0.6666667, shape=(), dtype=float32)\n",
      "LR: 0.0001, Batch Size: 16, Epochs: 200, Hidden Layers: (4, 4), Val Accuracy: 0.6667\n",
      "tf.Tensor(0.6666667, shape=(), dtype=float32)\n",
      "tf.Tensor(0.6666667, shape=(), dtype=float32)\n",
      "tf.Tensor(0.6666667, shape=(), dtype=float32)\n",
      "tf.Tensor(0.6666667, shape=(), dtype=float32)\n",
      "tf.Tensor(0.6666667, shape=(), dtype=float32)\n",
      "LR: 0.0001, Batch Size: 16, Epochs: 200, Hidden Layers: (4, 4, 4), Val Accuracy: 0.6667\n",
      "tf.Tensor(0.33333334, shape=(), dtype=float32)\n",
      "tf.Tensor(0.33333334, shape=(), dtype=float32)\n",
      "tf.Tensor(0.33333334, shape=(), dtype=float32)\n",
      "tf.Tensor(0.33333334, shape=(), dtype=float32)\n",
      "tf.Tensor(0.33333334, shape=(), dtype=float32)\n",
      "LR: 0.0001, Batch Size: 32, Epochs: 5, Hidden Layers: (4, 4), Val Accuracy: 0.3333\n",
      "tf.Tensor(0.33333334, shape=(), dtype=float32)\n",
      "tf.Tensor(0.33333334, shape=(), dtype=float32)\n",
      "tf.Tensor(0.33333334, shape=(), dtype=float32)\n",
      "tf.Tensor(0.33333334, shape=(), dtype=float32)\n",
      "tf.Tensor(0.33333334, shape=(), dtype=float32)\n",
      "LR: 0.0001, Batch Size: 32, Epochs: 5, Hidden Layers: (4, 4, 4), Val Accuracy: 0.3333\n",
      "tf.Tensor(0.6666667, shape=(), dtype=float32)\n",
      "tf.Tensor(0.6666667, shape=(), dtype=float32)\n",
      "tf.Tensor(0.6666667, shape=(), dtype=float32)\n",
      "tf.Tensor(0.6666667, shape=(), dtype=float32)\n",
      "tf.Tensor(0.6333333, shape=(), dtype=float32)\n",
      "LR: 0.0001, Batch Size: 32, Epochs: 50, Hidden Layers: (4, 4), Val Accuracy: 0.6600\n",
      "tf.Tensor(0.53333336, shape=(), dtype=float32)\n",
      "tf.Tensor(0.6, shape=(), dtype=float32)\n",
      "tf.Tensor(0.53333336, shape=(), dtype=float32)\n",
      "tf.Tensor(0.53333336, shape=(), dtype=float32)\n",
      "tf.Tensor(0.5, shape=(), dtype=float32)\n",
      "LR: 0.0001, Batch Size: 32, Epochs: 50, Hidden Layers: (4, 4, 4), Val Accuracy: 0.5400\n",
      "tf.Tensor(0.6666667, shape=(), dtype=float32)\n",
      "tf.Tensor(0.6666667, shape=(), dtype=float32)\n",
      "tf.Tensor(0.6666667, shape=(), dtype=float32)\n",
      "tf.Tensor(0.6666667, shape=(), dtype=float32)\n",
      "tf.Tensor(0.6333333, shape=(), dtype=float32)\n",
      "LR: 0.0001, Batch Size: 32, Epochs: 100, Hidden Layers: (4, 4), Val Accuracy: 0.6600\n",
      "tf.Tensor(0.53333336, shape=(), dtype=float32)\n",
      "tf.Tensor(0.6, shape=(), dtype=float32)\n",
      "tf.Tensor(0.53333336, shape=(), dtype=float32)\n",
      "tf.Tensor(0.53333336, shape=(), dtype=float32)\n",
      "tf.Tensor(0.5, shape=(), dtype=float32)\n",
      "LR: 0.0001, Batch Size: 32, Epochs: 100, Hidden Layers: (4, 4, 4), Val Accuracy: 0.5400\n",
      "tf.Tensor(0.6666667, shape=(), dtype=float32)\n",
      "tf.Tensor(0.6666667, shape=(), dtype=float32)\n",
      "tf.Tensor(0.6666667, shape=(), dtype=float32)\n",
      "tf.Tensor(0.6666667, shape=(), dtype=float32)\n",
      "tf.Tensor(0.6666667, shape=(), dtype=float32)\n",
      "LR: 0.0001, Batch Size: 32, Epochs: 200, Hidden Layers: (4, 4), Val Accuracy: 0.6667\n",
      "tf.Tensor(0.6666667, shape=(), dtype=float32)\n",
      "tf.Tensor(0.6666667, shape=(), dtype=float32)\n",
      "tf.Tensor(0.6666667, shape=(), dtype=float32)\n",
      "tf.Tensor(0.6666667, shape=(), dtype=float32)\n",
      "tf.Tensor(0.6666667, shape=(), dtype=float32)\n",
      "LR: 0.0001, Batch Size: 32, Epochs: 200, Hidden Layers: (4, 4, 4), Val Accuracy: 0.6667\n",
      "tf.Tensor(0.33333334, shape=(), dtype=float32)\n",
      "tf.Tensor(0.33333334, shape=(), dtype=float32)\n",
      "tf.Tensor(0.33333334, shape=(), dtype=float32)\n",
      "tf.Tensor(0.33333334, shape=(), dtype=float32)\n",
      "tf.Tensor(0.33333334, shape=(), dtype=float32)\n",
      "LR: 0.0001, Batch Size: 64, Epochs: 5, Hidden Layers: (4, 4), Val Accuracy: 0.3333\n",
      "tf.Tensor(0.33333334, shape=(), dtype=float32)\n",
      "tf.Tensor(0.33333334, shape=(), dtype=float32)\n",
      "tf.Tensor(0.33333334, shape=(), dtype=float32)\n",
      "tf.Tensor(0.33333334, shape=(), dtype=float32)\n",
      "tf.Tensor(0.33333334, shape=(), dtype=float32)\n",
      "LR: 0.0001, Batch Size: 64, Epochs: 5, Hidden Layers: (4, 4, 4), Val Accuracy: 0.3333\n",
      "tf.Tensor(0.6666667, shape=(), dtype=float32)\n",
      "tf.Tensor(0.6333333, shape=(), dtype=float32)\n",
      "tf.Tensor(0.6666667, shape=(), dtype=float32)\n",
      "tf.Tensor(0.6333333, shape=(), dtype=float32)\n",
      "tf.Tensor(0.6333333, shape=(), dtype=float32)\n",
      "LR: 0.0001, Batch Size: 64, Epochs: 50, Hidden Layers: (4, 4), Val Accuracy: 0.6467\n",
      "tf.Tensor(0.53333336, shape=(), dtype=float32)\n",
      "tf.Tensor(0.6, shape=(), dtype=float32)\n",
      "tf.Tensor(0.5, shape=(), dtype=float32)\n",
      "tf.Tensor(0.53333336, shape=(), dtype=float32)\n",
      "tf.Tensor(0.5, shape=(), dtype=float32)\n",
      "LR: 0.0001, Batch Size: 64, Epochs: 50, Hidden Layers: (4, 4, 4), Val Accuracy: 0.5333\n",
      "tf.Tensor(0.6666667, shape=(), dtype=float32)\n",
      "tf.Tensor(0.6666667, shape=(), dtype=float32)\n",
      "tf.Tensor(0.6666667, shape=(), dtype=float32)\n",
      "tf.Tensor(0.6666667, shape=(), dtype=float32)\n",
      "tf.Tensor(0.6333333, shape=(), dtype=float32)\n",
      "LR: 0.0001, Batch Size: 64, Epochs: 100, Hidden Layers: (4, 4), Val Accuracy: 0.6600\n",
      "tf.Tensor(0.53333336, shape=(), dtype=float32)\n",
      "tf.Tensor(0.6, shape=(), dtype=float32)\n",
      "tf.Tensor(0.5, shape=(), dtype=float32)\n",
      "tf.Tensor(0.53333336, shape=(), dtype=float32)\n",
      "tf.Tensor(0.5, shape=(), dtype=float32)\n",
      "LR: 0.0001, Batch Size: 64, Epochs: 100, Hidden Layers: (4, 4, 4), Val Accuracy: 0.5333\n",
      "tf.Tensor(0.6666667, shape=(), dtype=float32)\n",
      "tf.Tensor(0.6666667, shape=(), dtype=float32)\n",
      "tf.Tensor(0.6666667, shape=(), dtype=float32)\n",
      "tf.Tensor(0.6666667, shape=(), dtype=float32)\n",
      "tf.Tensor(0.6333333, shape=(), dtype=float32)\n",
      "LR: 0.0001, Batch Size: 64, Epochs: 200, Hidden Layers: (4, 4), Val Accuracy: 0.6600\n",
      "tf.Tensor(0.53333336, shape=(), dtype=float32)\n",
      "tf.Tensor(0.6, shape=(), dtype=float32)\n",
      "tf.Tensor(0.5, shape=(), dtype=float32)\n",
      "tf.Tensor(0.53333336, shape=(), dtype=float32)\n",
      "tf.Tensor(0.5, shape=(), dtype=float32)\n",
      "LR: 0.0001, Batch Size: 64, Epochs: 200, Hidden Layers: (4, 4, 4), Val Accuracy: 0.5333\n",
      "tf.Tensor(0.33333334, shape=(), dtype=float32)\n",
      "tf.Tensor(0.33333334, shape=(), dtype=float32)\n",
      "tf.Tensor(0.33333334, shape=(), dtype=float32)\n",
      "tf.Tensor(0.33333334, shape=(), dtype=float32)\n",
      "tf.Tensor(0.33333334, shape=(), dtype=float32)\n",
      "LR: 0.001, Batch Size: 16, Epochs: 5, Hidden Layers: (4, 4), Val Accuracy: 0.3333\n",
      "tf.Tensor(0.33333334, shape=(), dtype=float32)\n",
      "tf.Tensor(0.33333334, shape=(), dtype=float32)\n",
      "tf.Tensor(0.33333334, shape=(), dtype=float32)\n",
      "tf.Tensor(0.33333334, shape=(), dtype=float32)\n",
      "tf.Tensor(0.33333334, shape=(), dtype=float32)\n",
      "LR: 0.001, Batch Size: 16, Epochs: 5, Hidden Layers: (4, 4, 4), Val Accuracy: 0.3333\n",
      "tf.Tensor(0.6666667, shape=(), dtype=float32)\n",
      "tf.Tensor(0.6666667, shape=(), dtype=float32)\n",
      "tf.Tensor(0.6666667, shape=(), dtype=float32)\n",
      "tf.Tensor(0.6666667, shape=(), dtype=float32)\n",
      "tf.Tensor(0.6666667, shape=(), dtype=float32)\n",
      "LR: 0.001, Batch Size: 16, Epochs: 50, Hidden Layers: (4, 4), Val Accuracy: 0.6667\n",
      "tf.Tensor(0.6666667, shape=(), dtype=float32)\n",
      "tf.Tensor(0.6666667, shape=(), dtype=float32)\n",
      "tf.Tensor(0.6666667, shape=(), dtype=float32)\n",
      "tf.Tensor(0.6666667, shape=(), dtype=float32)\n",
      "tf.Tensor(0.6666667, shape=(), dtype=float32)\n",
      "LR: 0.001, Batch Size: 16, Epochs: 50, Hidden Layers: (4, 4, 4), Val Accuracy: 0.6667\n",
      "tf.Tensor(0.6666667, shape=(), dtype=float32)\n",
      "tf.Tensor(0.6666667, shape=(), dtype=float32)\n",
      "tf.Tensor(0.6666667, shape=(), dtype=float32)\n",
      "tf.Tensor(0.6666667, shape=(), dtype=float32)\n",
      "tf.Tensor(0.6666667, shape=(), dtype=float32)\n",
      "LR: 0.001, Batch Size: 16, Epochs: 100, Hidden Layers: (4, 4), Val Accuracy: 0.6667\n",
      "tf.Tensor(0.6666667, shape=(), dtype=float32)\n",
      "tf.Tensor(0.6666667, shape=(), dtype=float32)\n",
      "tf.Tensor(0.6666667, shape=(), dtype=float32)\n",
      "tf.Tensor(0.6666667, shape=(), dtype=float32)\n",
      "tf.Tensor(0.6666667, shape=(), dtype=float32)\n",
      "LR: 0.001, Batch Size: 16, Epochs: 100, Hidden Layers: (4, 4, 4), Val Accuracy: 0.6667\n",
      "tf.Tensor(0.6666667, shape=(), dtype=float32)\n",
      "tf.Tensor(0.6666667, shape=(), dtype=float32)\n",
      "tf.Tensor(0.6666667, shape=(), dtype=float32)\n",
      "tf.Tensor(0.6666667, shape=(), dtype=float32)\n",
      "tf.Tensor(0.6666667, shape=(), dtype=float32)\n",
      "LR: 0.001, Batch Size: 16, Epochs: 200, Hidden Layers: (4, 4), Val Accuracy: 0.6667\n",
      "tf.Tensor(0.73333335, shape=(), dtype=float32)\n",
      "tf.Tensor(0.8, shape=(), dtype=float32)\n",
      "tf.Tensor(0.7, shape=(), dtype=float32)\n",
      "tf.Tensor(0.7, shape=(), dtype=float32)\n",
      "tf.Tensor(0.76666665, shape=(), dtype=float32)\n",
      "LR: 0.001, Batch Size: 16, Epochs: 200, Hidden Layers: (4, 4, 4), Val Accuracy: 0.7400\n",
      "tf.Tensor(0.33333334, shape=(), dtype=float32)\n",
      "tf.Tensor(0.33333334, shape=(), dtype=float32)\n",
      "tf.Tensor(0.33333334, shape=(), dtype=float32)\n",
      "tf.Tensor(0.33333334, shape=(), dtype=float32)\n",
      "tf.Tensor(0.33333334, shape=(), dtype=float32)\n",
      "LR: 0.001, Batch Size: 32, Epochs: 5, Hidden Layers: (4, 4), Val Accuracy: 0.3333\n",
      "tf.Tensor(0.33333334, shape=(), dtype=float32)\n",
      "tf.Tensor(0.33333334, shape=(), dtype=float32)\n",
      "tf.Tensor(0.33333334, shape=(), dtype=float32)\n",
      "tf.Tensor(0.33333334, shape=(), dtype=float32)\n",
      "tf.Tensor(0.33333334, shape=(), dtype=float32)\n",
      "LR: 0.001, Batch Size: 32, Epochs: 5, Hidden Layers: (4, 4, 4), Val Accuracy: 0.3333\n",
      "tf.Tensor(0.6666667, shape=(), dtype=float32)\n",
      "tf.Tensor(0.6666667, shape=(), dtype=float32)\n",
      "tf.Tensor(0.6666667, shape=(), dtype=float32)\n",
      "tf.Tensor(0.6666667, shape=(), dtype=float32)\n",
      "tf.Tensor(0.6666667, shape=(), dtype=float32)\n",
      "LR: 0.001, Batch Size: 32, Epochs: 50, Hidden Layers: (4, 4), Val Accuracy: 0.6667\n",
      "tf.Tensor(0.6666667, shape=(), dtype=float32)\n",
      "tf.Tensor(0.6666667, shape=(), dtype=float32)\n",
      "tf.Tensor(0.6666667, shape=(), dtype=float32)\n",
      "tf.Tensor(0.6666667, shape=(), dtype=float32)\n",
      "tf.Tensor(0.6666667, shape=(), dtype=float32)\n",
      "LR: 0.001, Batch Size: 32, Epochs: 50, Hidden Layers: (4, 4, 4), Val Accuracy: 0.6667\n",
      "tf.Tensor(0.6666667, shape=(), dtype=float32)\n",
      "tf.Tensor(0.6666667, shape=(), dtype=float32)\n",
      "tf.Tensor(0.6666667, shape=(), dtype=float32)\n",
      "tf.Tensor(0.6666667, shape=(), dtype=float32)\n",
      "tf.Tensor(0.6666667, shape=(), dtype=float32)\n",
      "LR: 0.001, Batch Size: 32, Epochs: 100, Hidden Layers: (4, 4), Val Accuracy: 0.6667\n",
      "tf.Tensor(0.6666667, shape=(), dtype=float32)\n",
      "tf.Tensor(0.6666667, shape=(), dtype=float32)\n",
      "tf.Tensor(0.6666667, shape=(), dtype=float32)\n",
      "tf.Tensor(0.6666667, shape=(), dtype=float32)\n",
      "tf.Tensor(0.6666667, shape=(), dtype=float32)\n",
      "LR: 0.001, Batch Size: 32, Epochs: 100, Hidden Layers: (4, 4, 4), Val Accuracy: 0.6667\n",
      "tf.Tensor(0.6666667, shape=(), dtype=float32)\n",
      "tf.Tensor(0.6666667, shape=(), dtype=float32)\n",
      "tf.Tensor(0.6666667, shape=(), dtype=float32)\n",
      "tf.Tensor(0.6666667, shape=(), dtype=float32)\n",
      "tf.Tensor(0.6666667, shape=(), dtype=float32)\n",
      "LR: 0.001, Batch Size: 32, Epochs: 200, Hidden Layers: (4, 4), Val Accuracy: 0.6667\n",
      "tf.Tensor(0.6666667, shape=(), dtype=float32)\n",
      "tf.Tensor(0.6666667, shape=(), dtype=float32)\n",
      "tf.Tensor(0.6666667, shape=(), dtype=float32)\n",
      "tf.Tensor(0.6666667, shape=(), dtype=float32)\n",
      "tf.Tensor(0.7, shape=(), dtype=float32)\n",
      "LR: 0.001, Batch Size: 32, Epochs: 200, Hidden Layers: (4, 4, 4), Val Accuracy: 0.6733\n",
      "tf.Tensor(0.33333334, shape=(), dtype=float32)\n",
      "tf.Tensor(0.33333334, shape=(), dtype=float32)\n",
      "tf.Tensor(0.33333334, shape=(), dtype=float32)\n",
      "tf.Tensor(0.33333334, shape=(), dtype=float32)\n",
      "tf.Tensor(0.33333334, shape=(), dtype=float32)\n",
      "LR: 0.001, Batch Size: 64, Epochs: 5, Hidden Layers: (4, 4), Val Accuracy: 0.3333\n",
      "tf.Tensor(0.33333334, shape=(), dtype=float32)\n",
      "tf.Tensor(0.33333334, shape=(), dtype=float32)\n",
      "tf.Tensor(0.33333334, shape=(), dtype=float32)\n",
      "tf.Tensor(0.33333334, shape=(), dtype=float32)\n",
      "tf.Tensor(0.33333334, shape=(), dtype=float32)\n",
      "LR: 0.001, Batch Size: 64, Epochs: 5, Hidden Layers: (4, 4, 4), Val Accuracy: 0.3333\n",
      "tf.Tensor(0.6666667, shape=(), dtype=float32)\n",
      "tf.Tensor(0.6666667, shape=(), dtype=float32)\n",
      "tf.Tensor(0.6666667, shape=(), dtype=float32)\n",
      "tf.Tensor(0.6666667, shape=(), dtype=float32)\n",
      "tf.Tensor(0.6666667, shape=(), dtype=float32)\n",
      "LR: 0.001, Batch Size: 64, Epochs: 50, Hidden Layers: (4, 4), Val Accuracy: 0.6667\n",
      "tf.Tensor(0.6666667, shape=(), dtype=float32)\n",
      "tf.Tensor(0.6666667, shape=(), dtype=float32)\n",
      "tf.Tensor(0.6666667, shape=(), dtype=float32)\n",
      "tf.Tensor(0.6666667, shape=(), dtype=float32)\n",
      "tf.Tensor(0.6666667, shape=(), dtype=float32)\n",
      "LR: 0.001, Batch Size: 64, Epochs: 50, Hidden Layers: (4, 4, 4), Val Accuracy: 0.6667\n",
      "tf.Tensor(0.6666667, shape=(), dtype=float32)\n",
      "tf.Tensor(0.6666667, shape=(), dtype=float32)\n",
      "tf.Tensor(0.7, shape=(), dtype=float32)\n",
      "tf.Tensor(0.73333335, shape=(), dtype=float32)\n",
      "tf.Tensor(0.6666667, shape=(), dtype=float32)\n",
      "LR: 0.001, Batch Size: 64, Epochs: 100, Hidden Layers: (4, 4), Val Accuracy: 0.6867\n",
      "tf.Tensor(0.6666667, shape=(), dtype=float32)\n",
      "tf.Tensor(0.6666667, shape=(), dtype=float32)\n",
      "tf.Tensor(0.6666667, shape=(), dtype=float32)\n",
      "tf.Tensor(0.6666667, shape=(), dtype=float32)\n",
      "tf.Tensor(0.6666667, shape=(), dtype=float32)\n",
      "LR: 0.001, Batch Size: 64, Epochs: 100, Hidden Layers: (4, 4, 4), Val Accuracy: 0.6667\n",
      "tf.Tensor(0.7, shape=(), dtype=float32)\n",
      "tf.Tensor(0.6666667, shape=(), dtype=float32)\n",
      "tf.Tensor(0.93333334, shape=(), dtype=float32)\n",
      "tf.Tensor(0.73333335, shape=(), dtype=float32)\n",
      "tf.Tensor(0.6666667, shape=(), dtype=float32)\n",
      "LR: 0.001, Batch Size: 64, Epochs: 200, Hidden Layers: (4, 4), Val Accuracy: 0.7400\n",
      "tf.Tensor(0.6666667, shape=(), dtype=float32)\n",
      "tf.Tensor(0.6666667, shape=(), dtype=float32)\n",
      "tf.Tensor(0.6666667, shape=(), dtype=float32)\n",
      "tf.Tensor(0.6666667, shape=(), dtype=float32)\n",
      "tf.Tensor(0.6666667, shape=(), dtype=float32)\n",
      "LR: 0.001, Batch Size: 64, Epochs: 200, Hidden Layers: (4, 4, 4), Val Accuracy: 0.6667\n",
      "tf.Tensor(0.33333334, shape=(), dtype=float32)\n",
      "tf.Tensor(0.33333334, shape=(), dtype=float32)\n",
      "tf.Tensor(0.33333334, shape=(), dtype=float32)\n",
      "tf.Tensor(0.33333334, shape=(), dtype=float32)\n",
      "tf.Tensor(0.33333334, shape=(), dtype=float32)\n",
      "LR: 0.01, Batch Size: 16, Epochs: 5, Hidden Layers: (4, 4), Val Accuracy: 0.3333\n",
      "tf.Tensor(0.33333334, shape=(), dtype=float32)\n",
      "tf.Tensor(0.33333334, shape=(), dtype=float32)\n",
      "tf.Tensor(0.33333334, shape=(), dtype=float32)\n",
      "tf.Tensor(0.33333334, shape=(), dtype=float32)\n",
      "tf.Tensor(0.33333334, shape=(), dtype=float32)\n",
      "LR: 0.01, Batch Size: 16, Epochs: 5, Hidden Layers: (4, 4, 4), Val Accuracy: 0.3333\n",
      "tf.Tensor(0.6666667, shape=(), dtype=float32)\n",
      "tf.Tensor(0.6666667, shape=(), dtype=float32)\n",
      "tf.Tensor(0.6666667, shape=(), dtype=float32)\n",
      "tf.Tensor(0.6666667, shape=(), dtype=float32)\n",
      "tf.Tensor(0.6666667, shape=(), dtype=float32)\n",
      "LR: 0.01, Batch Size: 16, Epochs: 50, Hidden Layers: (4, 4), Val Accuracy: 0.6667\n",
      "tf.Tensor(0.6666667, shape=(), dtype=float32)\n",
      "tf.Tensor(0.6666667, shape=(), dtype=float32)\n",
      "tf.Tensor(0.6666667, shape=(), dtype=float32)\n",
      "tf.Tensor(0.6666667, shape=(), dtype=float32)\n",
      "tf.Tensor(0.6666667, shape=(), dtype=float32)\n",
      "LR: 0.01, Batch Size: 16, Epochs: 50, Hidden Layers: (4, 4, 4), Val Accuracy: 0.6667\n",
      "tf.Tensor(0.73333335, shape=(), dtype=float32)\n",
      "tf.Tensor(0.6666667, shape=(), dtype=float32)\n",
      "tf.Tensor(0.93333334, shape=(), dtype=float32)\n",
      "tf.Tensor(0.93333334, shape=(), dtype=float32)\n",
      "tf.Tensor(0.6666667, shape=(), dtype=float32)\n",
      "LR: 0.01, Batch Size: 16, Epochs: 100, Hidden Layers: (4, 4), Val Accuracy: 0.7867\n",
      "tf.Tensor(0.6666667, shape=(), dtype=float32)\n",
      "tf.Tensor(0.6666667, shape=(), dtype=float32)\n",
      "tf.Tensor(0.6666667, shape=(), dtype=float32)\n",
      "tf.Tensor(0.6666667, shape=(), dtype=float32)\n",
      "tf.Tensor(0.6666667, shape=(), dtype=float32)\n",
      "LR: 0.01, Batch Size: 16, Epochs: 100, Hidden Layers: (4, 4, 4), Val Accuracy: 0.6667\n",
      "tf.Tensor(1.0, shape=(), dtype=float32)\n",
      "tf.Tensor(1.0, shape=(), dtype=float32)\n",
      "tf.Tensor(1.0, shape=(), dtype=float32)\n",
      "tf.Tensor(0.93333334, shape=(), dtype=float32)\n",
      "tf.Tensor(1.0, shape=(), dtype=float32)\n",
      "LR: 0.01, Batch Size: 16, Epochs: 200, Hidden Layers: (4, 4), Val Accuracy: 0.9867\n",
      "tf.Tensor(1.0, shape=(), dtype=float32)\n",
      "tf.Tensor(0.96666664, shape=(), dtype=float32)\n",
      "tf.Tensor(0.93333334, shape=(), dtype=float32)\n",
      "tf.Tensor(0.96666664, shape=(), dtype=float32)\n",
      "tf.Tensor(1.0, shape=(), dtype=float32)\n",
      "LR: 0.01, Batch Size: 16, Epochs: 200, Hidden Layers: (4, 4, 4), Val Accuracy: 0.9733\n",
      "tf.Tensor(0.33333334, shape=(), dtype=float32)\n",
      "tf.Tensor(0.33333334, shape=(), dtype=float32)\n",
      "tf.Tensor(0.33333334, shape=(), dtype=float32)\n",
      "tf.Tensor(0.33333334, shape=(), dtype=float32)\n",
      "tf.Tensor(0.33333334, shape=(), dtype=float32)\n",
      "LR: 0.01, Batch Size: 32, Epochs: 5, Hidden Layers: (4, 4), Val Accuracy: 0.3333\n",
      "tf.Tensor(0.33333334, shape=(), dtype=float32)\n",
      "tf.Tensor(0.33333334, shape=(), dtype=float32)\n",
      "tf.Tensor(0.33333334, shape=(), dtype=float32)\n",
      "tf.Tensor(0.33333334, shape=(), dtype=float32)\n",
      "tf.Tensor(0.33333334, shape=(), dtype=float32)\n",
      "LR: 0.01, Batch Size: 32, Epochs: 5, Hidden Layers: (4, 4, 4), Val Accuracy: 0.3333\n",
      "tf.Tensor(0.6666667, shape=(), dtype=float32)\n",
      "tf.Tensor(0.6666667, shape=(), dtype=float32)\n",
      "tf.Tensor(0.6666667, shape=(), dtype=float32)\n",
      "tf.Tensor(0.6666667, shape=(), dtype=float32)\n",
      "tf.Tensor(0.6666667, shape=(), dtype=float32)\n",
      "LR: 0.01, Batch Size: 32, Epochs: 50, Hidden Layers: (4, 4), Val Accuracy: 0.6667\n",
      "tf.Tensor(0.6666667, shape=(), dtype=float32)\n",
      "tf.Tensor(0.6666667, shape=(), dtype=float32)\n",
      "tf.Tensor(0.6666667, shape=(), dtype=float32)\n",
      "tf.Tensor(0.6666667, shape=(), dtype=float32)\n",
      "tf.Tensor(0.6666667, shape=(), dtype=float32)\n",
      "LR: 0.01, Batch Size: 32, Epochs: 50, Hidden Layers: (4, 4, 4), Val Accuracy: 0.6667\n",
      "tf.Tensor(0.6666667, shape=(), dtype=float32)\n",
      "tf.Tensor(0.6666667, shape=(), dtype=float32)\n",
      "tf.Tensor(0.6666667, shape=(), dtype=float32)\n",
      "tf.Tensor(0.6666667, shape=(), dtype=float32)\n",
      "tf.Tensor(0.6666667, shape=(), dtype=float32)\n",
      "LR: 0.01, Batch Size: 32, Epochs: 100, Hidden Layers: (4, 4), Val Accuracy: 0.6667\n",
      "tf.Tensor(0.6666667, shape=(), dtype=float32)\n",
      "tf.Tensor(0.6666667, shape=(), dtype=float32)\n",
      "tf.Tensor(0.6666667, shape=(), dtype=float32)\n",
      "tf.Tensor(0.6666667, shape=(), dtype=float32)\n",
      "tf.Tensor(0.6666667, shape=(), dtype=float32)\n",
      "LR: 0.01, Batch Size: 32, Epochs: 100, Hidden Layers: (4, 4, 4), Val Accuracy: 0.6667\n",
      "tf.Tensor(0.6666667, shape=(), dtype=float32)\n",
      "tf.Tensor(0.6666667, shape=(), dtype=float32)\n",
      "tf.Tensor(0.6666667, shape=(), dtype=float32)\n",
      "tf.Tensor(0.6666667, shape=(), dtype=float32)\n",
      "tf.Tensor(0.6666667, shape=(), dtype=float32)\n",
      "LR: 0.01, Batch Size: 32, Epochs: 200, Hidden Layers: (4, 4), Val Accuracy: 0.6667\n",
      "tf.Tensor(0.6666667, shape=(), dtype=float32)\n",
      "tf.Tensor(0.6666667, shape=(), dtype=float32)\n",
      "tf.Tensor(0.6666667, shape=(), dtype=float32)\n",
      "tf.Tensor(0.6666667, shape=(), dtype=float32)\n",
      "tf.Tensor(0.6666667, shape=(), dtype=float32)\n",
      "LR: 0.01, Batch Size: 32, Epochs: 200, Hidden Layers: (4, 4, 4), Val Accuracy: 0.6667\n",
      "tf.Tensor(0.33333334, shape=(), dtype=float32)\n",
      "tf.Tensor(0.33333334, shape=(), dtype=float32)\n",
      "tf.Tensor(0.33333334, shape=(), dtype=float32)\n",
      "tf.Tensor(0.33333334, shape=(), dtype=float32)\n",
      "tf.Tensor(0.33333334, shape=(), dtype=float32)\n",
      "LR: 0.01, Batch Size: 64, Epochs: 5, Hidden Layers: (4, 4), Val Accuracy: 0.3333\n",
      "tf.Tensor(0.33333334, shape=(), dtype=float32)\n",
      "tf.Tensor(0.33333334, shape=(), dtype=float32)\n",
      "tf.Tensor(0.33333334, shape=(), dtype=float32)\n",
      "tf.Tensor(0.33333334, shape=(), dtype=float32)\n",
      "tf.Tensor(0.33333334, shape=(), dtype=float32)\n",
      "LR: 0.01, Batch Size: 64, Epochs: 5, Hidden Layers: (4, 4, 4), Val Accuracy: 0.3333\n",
      "tf.Tensor(0.6666667, shape=(), dtype=float32)\n",
      "tf.Tensor(0.6666667, shape=(), dtype=float32)\n",
      "tf.Tensor(0.6666667, shape=(), dtype=float32)\n",
      "tf.Tensor(0.6666667, shape=(), dtype=float32)\n",
      "tf.Tensor(0.6666667, shape=(), dtype=float32)\n",
      "LR: 0.01, Batch Size: 64, Epochs: 50, Hidden Layers: (4, 4), Val Accuracy: 0.6667\n",
      "tf.Tensor(0.6666667, shape=(), dtype=float32)\n",
      "tf.Tensor(0.6666667, shape=(), dtype=float32)\n",
      "tf.Tensor(0.6666667, shape=(), dtype=float32)\n",
      "tf.Tensor(0.6666667, shape=(), dtype=float32)\n",
      "tf.Tensor(0.6666667, shape=(), dtype=float32)\n",
      "LR: 0.01, Batch Size: 64, Epochs: 50, Hidden Layers: (4, 4, 4), Val Accuracy: 0.6667\n",
      "tf.Tensor(0.6666667, shape=(), dtype=float32)\n",
      "tf.Tensor(0.6666667, shape=(), dtype=float32)\n",
      "tf.Tensor(0.6666667, shape=(), dtype=float32)\n",
      "tf.Tensor(0.6666667, shape=(), dtype=float32)\n",
      "tf.Tensor(0.6666667, shape=(), dtype=float32)\n",
      "LR: 0.01, Batch Size: 64, Epochs: 100, Hidden Layers: (4, 4), Val Accuracy: 0.6667\n",
      "tf.Tensor(0.6666667, shape=(), dtype=float32)\n",
      "tf.Tensor(0.6666667, shape=(), dtype=float32)\n",
      "tf.Tensor(0.6666667, shape=(), dtype=float32)\n",
      "tf.Tensor(0.6666667, shape=(), dtype=float32)\n",
      "tf.Tensor(0.6666667, shape=(), dtype=float32)\n",
      "LR: 0.01, Batch Size: 64, Epochs: 100, Hidden Layers: (4, 4, 4), Val Accuracy: 0.6667\n",
      "tf.Tensor(0.6666667, shape=(), dtype=float32)\n",
      "tf.Tensor(0.6666667, shape=(), dtype=float32)\n",
      "tf.Tensor(0.6666667, shape=(), dtype=float32)\n",
      "tf.Tensor(0.6666667, shape=(), dtype=float32)\n",
      "tf.Tensor(0.6666667, shape=(), dtype=float32)\n",
      "LR: 0.01, Batch Size: 64, Epochs: 200, Hidden Layers: (4, 4), Val Accuracy: 0.6667\n",
      "tf.Tensor(0.6666667, shape=(), dtype=float32)\n",
      "tf.Tensor(0.6666667, shape=(), dtype=float32)\n",
      "tf.Tensor(0.6666667, shape=(), dtype=float32)\n",
      "tf.Tensor(0.6666667, shape=(), dtype=float32)\n",
      "tf.Tensor(0.6666667, shape=(), dtype=float32)\n",
      "LR: 0.01, Batch Size: 64, Epochs: 200, Hidden Layers: (4, 4, 4), Val Accuracy: 0.6667\n",
      "tf.Tensor(0.6666667, shape=(), dtype=float32)\n",
      "tf.Tensor(0.6666667, shape=(), dtype=float32)\n",
      "tf.Tensor(0.6666667, shape=(), dtype=float32)\n",
      "tf.Tensor(0.6666667, shape=(), dtype=float32)\n",
      "tf.Tensor(0.6666667, shape=(), dtype=float32)\n",
      "LR: 0.1, Batch Size: 16, Epochs: 5, Hidden Layers: (4, 4), Val Accuracy: 0.6667\n",
      "tf.Tensor(0.6666667, shape=(), dtype=float32)\n",
      "tf.Tensor(0.6666667, shape=(), dtype=float32)\n",
      "tf.Tensor(0.6666667, shape=(), dtype=float32)\n",
      "tf.Tensor(0.6666667, shape=(), dtype=float32)\n",
      "tf.Tensor(0.6666667, shape=(), dtype=float32)\n",
      "LR: 0.1, Batch Size: 16, Epochs: 5, Hidden Layers: (4, 4, 4), Val Accuracy: 0.6667\n",
      "tf.Tensor(0.6666667, shape=(), dtype=float32)\n",
      "tf.Tensor(0.6666667, shape=(), dtype=float32)\n",
      "tf.Tensor(0.6666667, shape=(), dtype=float32)\n",
      "tf.Tensor(0.6666667, shape=(), dtype=float32)\n",
      "tf.Tensor(0.6666667, shape=(), dtype=float32)\n",
      "LR: 0.1, Batch Size: 16, Epochs: 50, Hidden Layers: (4, 4), Val Accuracy: 0.6667\n",
      "tf.Tensor(0.6666667, shape=(), dtype=float32)\n",
      "tf.Tensor(0.6666667, shape=(), dtype=float32)\n",
      "tf.Tensor(0.6666667, shape=(), dtype=float32)\n",
      "tf.Tensor(0.6666667, shape=(), dtype=float32)\n",
      "tf.Tensor(0.6666667, shape=(), dtype=float32)\n",
      "LR: 0.1, Batch Size: 16, Epochs: 50, Hidden Layers: (4, 4, 4), Val Accuracy: 0.6667\n",
      "tf.Tensor(0.6666667, shape=(), dtype=float32)\n",
      "tf.Tensor(0.6666667, shape=(), dtype=float32)\n",
      "tf.Tensor(0.6666667, shape=(), dtype=float32)\n",
      "tf.Tensor(0.6666667, shape=(), dtype=float32)\n",
      "tf.Tensor(0.6666667, shape=(), dtype=float32)\n",
      "LR: 0.1, Batch Size: 16, Epochs: 100, Hidden Layers: (4, 4), Val Accuracy: 0.6667\n",
      "tf.Tensor(0.6666667, shape=(), dtype=float32)\n",
      "tf.Tensor(0.6666667, shape=(), dtype=float32)\n",
      "tf.Tensor(0.6666667, shape=(), dtype=float32)\n",
      "tf.Tensor(0.6666667, shape=(), dtype=float32)\n",
      "tf.Tensor(0.6666667, shape=(), dtype=float32)\n",
      "LR: 0.1, Batch Size: 16, Epochs: 100, Hidden Layers: (4, 4, 4), Val Accuracy: 0.6667\n",
      "tf.Tensor(0.6666667, shape=(), dtype=float32)\n",
      "tf.Tensor(0.6666667, shape=(), dtype=float32)\n",
      "tf.Tensor(0.6666667, shape=(), dtype=float32)\n",
      "tf.Tensor(0.6666667, shape=(), dtype=float32)\n",
      "tf.Tensor(0.6666667, shape=(), dtype=float32)\n",
      "LR: 0.1, Batch Size: 16, Epochs: 200, Hidden Layers: (4, 4), Val Accuracy: 0.6667\n",
      "tf.Tensor(0.6666667, shape=(), dtype=float32)\n",
      "tf.Tensor(0.6666667, shape=(), dtype=float32)\n",
      "tf.Tensor(0.6666667, shape=(), dtype=float32)\n",
      "tf.Tensor(0.6666667, shape=(), dtype=float32)\n",
      "tf.Tensor(0.6666667, shape=(), dtype=float32)\n",
      "LR: 0.1, Batch Size: 16, Epochs: 200, Hidden Layers: (4, 4, 4), Val Accuracy: 0.6667\n",
      "tf.Tensor(0.6666667, shape=(), dtype=float32)\n",
      "tf.Tensor(0.6666667, shape=(), dtype=float32)\n",
      "tf.Tensor(0.6666667, shape=(), dtype=float32)\n",
      "tf.Tensor(0.6666667, shape=(), dtype=float32)\n",
      "tf.Tensor(0.6666667, shape=(), dtype=float32)\n",
      "LR: 0.1, Batch Size: 32, Epochs: 5, Hidden Layers: (4, 4), Val Accuracy: 0.6667\n",
      "tf.Tensor(0.33333334, shape=(), dtype=float32)\n",
      "tf.Tensor(0.33333334, shape=(), dtype=float32)\n",
      "tf.Tensor(0.33333334, shape=(), dtype=float32)\n",
      "tf.Tensor(0.33333334, shape=(), dtype=float32)\n",
      "tf.Tensor(0.33333334, shape=(), dtype=float32)\n",
      "LR: 0.1, Batch Size: 32, Epochs: 5, Hidden Layers: (4, 4, 4), Val Accuracy: 0.3333\n",
      "tf.Tensor(0.6666667, shape=(), dtype=float32)\n",
      "tf.Tensor(0.6666667, shape=(), dtype=float32)\n",
      "tf.Tensor(0.6666667, shape=(), dtype=float32)\n",
      "tf.Tensor(0.6666667, shape=(), dtype=float32)\n",
      "tf.Tensor(0.6666667, shape=(), dtype=float32)\n",
      "LR: 0.1, Batch Size: 32, Epochs: 50, Hidden Layers: (4, 4), Val Accuracy: 0.6667\n",
      "tf.Tensor(0.33333334, shape=(), dtype=float32)\n",
      "tf.Tensor(0.33333334, shape=(), dtype=float32)\n",
      "tf.Tensor(0.33333334, shape=(), dtype=float32)\n",
      "tf.Tensor(0.33333334, shape=(), dtype=float32)\n",
      "tf.Tensor(0.33333334, shape=(), dtype=float32)\n",
      "LR: 0.1, Batch Size: 32, Epochs: 50, Hidden Layers: (4, 4, 4), Val Accuracy: 0.3333\n",
      "tf.Tensor(0.6666667, shape=(), dtype=float32)\n",
      "tf.Tensor(0.6666667, shape=(), dtype=float32)\n",
      "tf.Tensor(0.6666667, shape=(), dtype=float32)\n",
      "tf.Tensor(0.6666667, shape=(), dtype=float32)\n",
      "tf.Tensor(0.6666667, shape=(), dtype=float32)\n",
      "LR: 0.1, Batch Size: 32, Epochs: 100, Hidden Layers: (4, 4), Val Accuracy: 0.6667\n",
      "tf.Tensor(0.33333334, shape=(), dtype=float32)\n",
      "tf.Tensor(0.33333334, shape=(), dtype=float32)\n",
      "tf.Tensor(0.33333334, shape=(), dtype=float32)\n",
      "tf.Tensor(0.33333334, shape=(), dtype=float32)\n",
      "tf.Tensor(0.33333334, shape=(), dtype=float32)\n",
      "LR: 0.1, Batch Size: 32, Epochs: 100, Hidden Layers: (4, 4, 4), Val Accuracy: 0.3333\n",
      "tf.Tensor(0.6666667, shape=(), dtype=float32)\n",
      "tf.Tensor(0.6666667, shape=(), dtype=float32)\n",
      "tf.Tensor(0.6666667, shape=(), dtype=float32)\n",
      "tf.Tensor(0.6666667, shape=(), dtype=float32)\n",
      "tf.Tensor(0.6666667, shape=(), dtype=float32)\n",
      "LR: 0.1, Batch Size: 32, Epochs: 200, Hidden Layers: (4, 4), Val Accuracy: 0.6667\n",
      "tf.Tensor(0.33333334, shape=(), dtype=float32)\n",
      "tf.Tensor(0.33333334, shape=(), dtype=float32)\n",
      "tf.Tensor(0.33333334, shape=(), dtype=float32)\n",
      "tf.Tensor(0.33333334, shape=(), dtype=float32)\n",
      "tf.Tensor(0.33333334, shape=(), dtype=float32)\n",
      "LR: 0.1, Batch Size: 32, Epochs: 200, Hidden Layers: (4, 4, 4), Val Accuracy: 0.3333\n",
      "tf.Tensor(0.6666667, shape=(), dtype=float32)\n",
      "tf.Tensor(0.6666667, shape=(), dtype=float32)\n",
      "tf.Tensor(0.6666667, shape=(), dtype=float32)\n",
      "tf.Tensor(0.6333333, shape=(), dtype=float32)\n",
      "tf.Tensor(0.6333333, shape=(), dtype=float32)\n",
      "LR: 0.1, Batch Size: 64, Epochs: 5, Hidden Layers: (4, 4), Val Accuracy: 0.6533\n",
      "tf.Tensor(0.33333334, shape=(), dtype=float32)\n",
      "tf.Tensor(0.33333334, shape=(), dtype=float32)\n",
      "tf.Tensor(0.33333334, shape=(), dtype=float32)\n",
      "tf.Tensor(0.33333334, shape=(), dtype=float32)\n",
      "tf.Tensor(0.33333334, shape=(), dtype=float32)\n",
      "LR: 0.1, Batch Size: 64, Epochs: 5, Hidden Layers: (4, 4, 4), Val Accuracy: 0.3333\n",
      "tf.Tensor(0.6666667, shape=(), dtype=float32)\n",
      "tf.Tensor(0.6666667, shape=(), dtype=float32)\n",
      "tf.Tensor(0.6666667, shape=(), dtype=float32)\n",
      "tf.Tensor(0.93333334, shape=(), dtype=float32)\n",
      "tf.Tensor(0.6666667, shape=(), dtype=float32)\n",
      "LR: 0.1, Batch Size: 64, Epochs: 50, Hidden Layers: (4, 4), Val Accuracy: 0.7200\n",
      "tf.Tensor(0.33333334, shape=(), dtype=float32)\n",
      "tf.Tensor(0.33333334, shape=(), dtype=float32)\n",
      "tf.Tensor(0.33333334, shape=(), dtype=float32)\n",
      "tf.Tensor(0.33333334, shape=(), dtype=float32)\n",
      "tf.Tensor(0.6666667, shape=(), dtype=float32)\n",
      "LR: 0.1, Batch Size: 64, Epochs: 50, Hidden Layers: (4, 4, 4), Val Accuracy: 0.4000\n",
      "tf.Tensor(0.6666667, shape=(), dtype=float32)\n",
      "tf.Tensor(0.6666667, shape=(), dtype=float32)\n",
      "tf.Tensor(0.6666667, shape=(), dtype=float32)\n",
      "tf.Tensor(0.93333334, shape=(), dtype=float32)\n",
      "tf.Tensor(0.6666667, shape=(), dtype=float32)\n",
      "LR: 0.1, Batch Size: 64, Epochs: 100, Hidden Layers: (4, 4), Val Accuracy: 0.7200\n",
      "tf.Tensor(0.33333334, shape=(), dtype=float32)\n",
      "tf.Tensor(0.33333334, shape=(), dtype=float32)\n",
      "tf.Tensor(0.33333334, shape=(), dtype=float32)\n",
      "tf.Tensor(0.33333334, shape=(), dtype=float32)\n",
      "tf.Tensor(0.6666667, shape=(), dtype=float32)\n",
      "LR: 0.1, Batch Size: 64, Epochs: 100, Hidden Layers: (4, 4, 4), Val Accuracy: 0.4000\n",
      "tf.Tensor(0.6666667, shape=(), dtype=float32)\n",
      "tf.Tensor(0.6666667, shape=(), dtype=float32)\n",
      "tf.Tensor(0.6666667, shape=(), dtype=float32)\n",
      "tf.Tensor(0.93333334, shape=(), dtype=float32)\n",
      "tf.Tensor(0.6666667, shape=(), dtype=float32)\n",
      "LR: 0.1, Batch Size: 64, Epochs: 200, Hidden Layers: (4, 4), Val Accuracy: 0.7200\n",
      "tf.Tensor(0.33333334, shape=(), dtype=float32)\n",
      "tf.Tensor(0.33333334, shape=(), dtype=float32)\n",
      "tf.Tensor(0.33333334, shape=(), dtype=float32)\n",
      "tf.Tensor(0.33333334, shape=(), dtype=float32)\n",
      "tf.Tensor(0.6666667, shape=(), dtype=float32)\n",
      "LR: 0.1, Batch Size: 64, Epochs: 200, Hidden Layers: (4, 4, 4), Val Accuracy: 0.4000\n"
     ]
    }
   ],
   "source": [
    "learning_rates = [0.0001, 0.001, 0.01, 0.1]\n",
    "batch_sizes = [16, 32, 64]\n",
    "epochs_list = [5, 50, 100, 200]\n",
    "hidden_layer_sizes = [(4, ), (4, 4), (4, 4, 4)]\n",
    "\n",
    "params = []\n",
    "accuracy_list = []\n",
    "\n",
    "for lr in learning_rates:\n",
    "    for bs in batch_sizes:\n",
    "        for epochs in epochs_list:\n",
    "            for hidden_sizes in hidden_layer_sizes:\n",
    "                accuracy_current_config = []\n",
    "\n",
    "                for i, (train_index, test_index) in enumerate(skf.split(X, y)):\n",
    "                    X_train, y_train = X.iloc[train_index], y.iloc[train_index]\n",
    "                    X_test, y_test = X.iloc[test_index], y.iloc[test_index]\n",
    "\n",
    "                    y_train = pd.get_dummies(y_train).astype(\"float32\")\n",
    "                    y_test = pd.get_dummies(y_test).astype(\"float32\")\n",
    "\n",
    "                    scaler = StandardScaler()\n",
    "                    X_train = scaler.fit_transform(X_train).astype(\"float32\")\n",
    "                    X_test = scaler.transform(X_test).astype(\"float32\")\n",
    "\n",
    "                    val_accuracy = train_model(X_train, y_train, X_test, y_test, hidden_sizes, lr, bs, epochs)\n",
    "                    print(val_accuracy)\n",
    "                    accuracy_current_config.append(val_accuracy)\n",
    "\n",
    "                accuracy_list.append(accuracy_current_config)\n",
    "                params.append([lr, bs, epochs, hidden_sizes])\n",
    "                \n",
    "                print(f\"LR: {lr}, Batch Size: {bs}, Epochs: {epochs}, Hidden Layers: {hidden_sizes}, Val Accuracy: {np.mean(accuracy_current_config):.4f}\")\n"
   ]
  },
  {
   "cell_type": "code",
   "execution_count": 31,
   "metadata": {},
   "outputs": [
    {
     "name": "stdout",
     "output_type": "stream",
     "text": [
      "Best 5 fold mean accuracy: 0.9866999983787537\n"
     ]
    }
   ],
   "source": [
    "print(f\"Best 5 fold mean accuracy: {round(np.max(np.mean(np.array(accuracy_list), axis=1)), 4)}\")"
   ]
  },
  {
   "cell_type": "code",
   "execution_count": 32,
   "metadata": {},
   "outputs": [],
   "source": [
    "best_params = params[np.argmax(np.mean(np.array(accuracy_list), axis=1))]"
   ]
  },
  {
   "cell_type": "code",
   "execution_count": 62,
   "metadata": {},
   "outputs": [
    {
     "data": {
      "text/plain": [
       "[0.01, 16, 200, (4, 4)]"
      ]
     },
     "execution_count": 62,
     "metadata": {},
     "output_type": "execute_result"
    }
   ],
   "source": [
    "best_params"
   ]
  },
  {
   "cell_type": "code",
   "execution_count": 63,
   "metadata": {},
   "outputs": [],
   "source": [
    "X_train, X_test, y_train, y_test = train_test_split(X, y, test_size=0.2, stratify=y, random_state=42)\n",
    "\n",
    "y_train = pd.get_dummies(y_train).astype(\"float32\")\n",
    "y_test = pd.get_dummies(y_test).astype(\"float32\")"
   ]
  },
  {
   "cell_type": "code",
   "execution_count": 64,
   "metadata": {},
   "outputs": [],
   "source": [
    "scaler = StandardScaler()\n",
    "\n",
    "X_train = scaler.fit_transform(X_train).astype(\"float32\")\n",
    "X_test = scaler.transform(X_test).astype(\"float32\")"
   ]
  },
  {
   "cell_type": "code",
   "execution_count": 65,
   "metadata": {},
   "outputs": [],
   "source": [
    "optimizer = tf.keras.optimizers.Adam(learning_rate=best_params[0])\n",
    "layers, biases = create_model(X_train.shape[1], y_train.shape[1], hidden_layer_nodes=best_params[3])"
   ]
  },
  {
   "cell_type": "code",
   "execution_count": 66,
   "metadata": {},
   "outputs": [],
   "source": [
    "@tf.function\n",
    "def final_train_step(inputs, targets, layers, biases):\n",
    "\n",
    "    with tf.GradientTape() as tape:\n",
    "        predictions = forward_pass(inputs, layers, biases)\n",
    "        loss = loss_fn(targets, predictions)\n",
    "    \n",
    "    gradients = tape.gradient(loss, layers+biases)\n",
    "    optimizer.apply_gradients(zip(gradients, layers+biases))\n",
    "    \n",
    "    return loss"
   ]
  },
  {
   "cell_type": "code",
   "execution_count": 67,
   "metadata": {},
   "outputs": [
    {
     "name": "stdout",
     "output_type": "stream",
     "text": [
      "Final test accuracy: 1.0000\n"
     ]
    }
   ],
   "source": [
    "for epoch in range(best_params[2]):\n",
    "    for step in range(0, len(X_train), best_params[1]):\n",
    "        x_batch = X_train[step:step+best_params[1]]\n",
    "        y_batch = y_train[step:step+best_params[1]]\n",
    "        loss = final_train_step(x_batch, y_batch, layers, biases)\n",
    "\n",
    "test_predictions = forward_pass(X_test, layers, biases)\n",
    "test_accuracy = accuracy_fn(y_test, test_predictions)\n",
    "print(f\"Final test accuracy: {test_accuracy:.4f}\")"
   ]
  },
  {
   "cell_type": "code",
   "execution_count": 70,
   "metadata": {},
   "outputs": [
    {
     "data": {
      "text/plain": [
       "[<tf.Variable 'Weights_input:0' shape=(4, 4) dtype=float32, numpy=\n",
       " array([[-0.43462378,  0.26587576, -1.0002661 ,  0.16486914],\n",
       "        [-0.96162546, -0.25556707,  0.8504019 , -0.21013585],\n",
       "        [ 1.3335925 , -0.38091767, -1.1666492 ,  1.4936198 ],\n",
       "        [ 1.2262242 , -0.37841985, -1.2751911 ,  1.2532227 ]],\n",
       "       dtype=float32)>,\n",
       " <tf.Variable 'Weights_l1:0' shape=(4, 4) dtype=float32, numpy=\n",
       " array([[ 7.6230896e-01, -1.8938977e+00, -5.4053940e-02, -1.9388732e-02],\n",
       "        [-1.1521289e+00, -2.8837627e-01, -2.6279209e-02, -4.2556252e-02],\n",
       "        [ 6.1139268e-01,  1.3373269e+00,  5.6624576e-03, -2.4750028e-04],\n",
       "        [ 1.6383249e+00, -4.1476226e-01, -5.9135053e-03, -5.5030573e-02]],\n",
       "       dtype=float32)>,\n",
       " <tf.Variable 'Weights_output:0' shape=(4, 3) dtype=float32, numpy=\n",
       " array([[-1.2050759 , -1.5741005 ,  1.7757468 ],\n",
       "        [ 1.1940591 , -1.3259282 , -1.136074  ],\n",
       "        [-0.01165665,  0.06965369,  0.02631426],\n",
       "        [ 0.03741932,  0.07545428,  0.06013547]], dtype=float32)>]"
      ]
     },
     "execution_count": 70,
     "metadata": {},
     "output_type": "execute_result"
    }
   ],
   "source": [
    "layers"
   ]
  },
  {
   "cell_type": "code",
   "execution_count": 71,
   "metadata": {},
   "outputs": [
    {
     "data": {
      "text/plain": [
       "[<tf.Variable 'Biases_input:0' shape=(4,) dtype=float32, numpy=array([-0.05044563,  1.1232016 ,  0.42926735, -0.81782967], dtype=float32)>,\n",
       " <tf.Variable 'Biases_l1:0' shape=(4,) dtype=float32, numpy=array([-0.5832495 ,  0.5768865 , -0.09905625, -0.06388999], dtype=float32)>,\n",
       " <tf.Variable 'Biases_output:0' shape=(3,) dtype=float32, numpy=array([-2.1542435,  3.6211164, -1.8735726], dtype=float32)>]"
      ]
     },
     "execution_count": 71,
     "metadata": {},
     "output_type": "execute_result"
    }
   ],
   "source": [
    "biases"
   ]
  },
  {
   "cell_type": "code",
   "execution_count": 74,
   "metadata": {},
   "outputs": [],
   "source": [
    "y_pred = tf.argmax(test_predictions, axis=1).numpy()\n",
    "y_true = tf.argmax(y_test, axis=1).numpy()\n",
    "\n",
    "cm = confusion_matrix(y_true, y_pred)\n",
    "accuracy = accuracy_score(y_true, y_pred)"
   ]
  },
  {
   "cell_type": "code",
   "execution_count": 75,
   "metadata": {},
   "outputs": [
    {
     "data": {
      "image/png": "[encoded data removed]",
      "text/plain": [
       "<Figure size 500x300 with 2 Axes>"
      ]
     },
     "metadata": {},
     "output_type": "display_data"
    },
    {
     "name": "stdout",
     "output_type": "stream",
     "text": [
      "Validation Accuracy: 1.0000\n"
     ]
    }
   ],
   "source": [
    "plt.figure(figsize=(5, 3))\n",
    "sns.heatmap(cm, annot=True, fmt='d', cmap='Blues')\n",
    "plt.title('Confusion Matrix')\n",
    "plt.ylabel('True label')\n",
    "plt.xlabel('Predicted label')\n",
    "plt.show()\n",
    "\n",
    "print(f\"Validation Accuracy: {accuracy:.4f}\")"
   ]
  },
  {
   "cell_type": "code",
   "execution_count": 79,
   "metadata": {},
   "outputs": [
    {
     "name": "stdout",
     "output_type": "stream",
     "text": [
      "Class 0:\n",
      "  Precision: 1.0000\n",
      "  Recall: 1.0000\n",
      "  F1-score: 1.0000\n",
      "Class 1:\n",
      "  Precision: 1.0000\n",
      "  Recall: 1.0000\n",
      "  F1-score: 1.0000\n",
      "Class 2:\n",
      "  Precision: 1.0000\n",
      "  Recall: 1.0000\n",
      "  F1-score: 1.0000\n",
      "\n",
      "Macro-average F1-score: 1.0000\n"
     ]
    }
   ],
   "source": [
    "precision = cm.diagonal() / cm.sum(axis=0)\n",
    "recall = cm.diagonal() / cm.sum(axis=1)\n",
    "f1_score = 2 * (precision * recall) / (precision + recall)\n",
    "output_nodes = 3\n",
    "\n",
    "for i in range(output_nodes):\n",
    "    print(f\"Class {i}:\")\n",
    "    print(f\"  Precision: {precision[i]:.4f}\")\n",
    "    print(f\"  Recall: {recall[i]:.4f}\")\n",
    "    print(f\"  F1-score: {f1_score[i]:.4f}\")\n",
    "\n",
    "print(f\"\\nMacro-average F1-score: {np.mean(f1_score):.4f}\")"
   ]
  },
  {
   "cell_type": "markdown",
   "metadata": {},
   "source": [
    "# Summary \n",
    "\n",
    "The accuracy looks nice on 5 Fold, ~ 98%, time to test MLP!"
   ]
  },
  {
   "cell_type": "code",
   "execution_count": 122,
   "metadata": {},
   "outputs": [
    {
     "data": {
      "text/plain": [
       "Iris-setosa        1.0\n",
       "Iris-versicolor    0.0\n",
       "Iris-virginica     0.0\n",
       "Name: 8, dtype: float32"
      ]
     },
     "execution_count": 122,
     "metadata": {},
     "output_type": "execute_result"
    }
   ],
   "source": [
    "y_train.iloc[0, :]"
   ]
  },
  {
   "cell_type": "code",
   "execution_count": 116,
   "metadata": {},
   "outputs": [
    {
     "data": {
      "text/plain": [
       "[[0.9999924898147583, 6.924832632648759e-06, 6.13666145454772e-07]]"
      ]
     },
     "execution_count": 116,
     "metadata": {},
     "output_type": "execute_result"
    }
   ],
   "source": [
    "forward_pass(tf.constant(X_train[[0]]), layers, biases).numpy().tolist()"
   ]
  },
  {
   "cell_type": "code",
   "execution_count": null,
   "metadata": {},
   "outputs": [],
   "source": []
  },
  {
   "cell_type": "code",
   "execution_count": null,
   "metadata": {},
   "outputs": [],
   "source": []
  }
 ],
 "metadata": {
  "kernelspec": {
   "display_name": "Python 3",
   "language": "python",
   "name": "python3"
  },
  "language_info": {
   "codemirror_mode": {
    "name": "ipython",
    "version": 3
   },
   "file_extension": ".py",
   "mimetype": "text/x-python",
   "name": "python",
   "nbconvert_exporter": "python",
   "pygments_lexer": "ipython3",
   "version": "3.10.7"
  }
 },
 "nbformat": 4,
 "nbformat_minor": 2
}
