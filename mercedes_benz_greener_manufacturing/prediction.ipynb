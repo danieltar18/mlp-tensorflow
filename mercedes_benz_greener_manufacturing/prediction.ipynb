{
 "cells": [
  {
   "cell_type": "markdown",
   "id": "1d13d275-de11-4eea-9ccb-324b431c8998",
   "metadata": {},
   "source": [
    "# Mercedes-Benz Greener Manufacturing\n",
    "\n",
    "Prediction on test df\n"
   ]
  },
  {
   "cell_type": "code",
   "execution_count": 35,
   "id": "08aa9bd3-b3ce-4cdb-904d-95968c2dbfa8",
   "metadata": {},
   "outputs": [],
   "source": [
    "import pandas as pd\n",
    "import matplotlib.pyplot as plt\n",
    "import seaborn as sns\n",
    "import numpy as np\n",
    "import tensorflow as tf\n",
    "import tensorflow.keras as keras\n",
    "import keras.backend as K\n",
    "import itertools\n",
    "\n",
    "from sklearn.preprocessing import StandardScaler, MinMaxScaler\n",
    "from sklearn.model_selection import KFold, train_test_split\n",
    "from sklearn.metrics import root_mean_squared_error, r2_score\n",
    "from sklearn.decomposition import PCA"
   ]
  },
  {
   "cell_type": "code",
   "execution_count": 36,
   "id": "11020b42",
   "metadata": {},
   "outputs": [],
   "source": [
    "def lookups_for_one_hot(categorical_features_array, lookup_layers):\n",
    "\n",
    "    list_values=[]\n",
    "    for i in range(categorical_features_array.shape[1]):\n",
    "        lookup = lookup_layers[i]\n",
    "        np_to_tensor = tf.convert_to_tensor(categorical_features_array[:, i])\n",
    "        onehot_encoded = lookup(np_to_tensor)\n",
    "        list_values.append(onehot_encoded)\n",
    "\n",
    "    return tf.concat(list_values, axis=1)"
   ]
  },
  {
   "cell_type": "code",
   "execution_count": 43,
   "id": "e7d5b814",
   "metadata": {},
   "outputs": [],
   "source": [
    "df = pd.read_csv(\"test/test.csv\")"
   ]
  },
  {
   "cell_type": "code",
   "execution_count": 44,
   "id": "60a23e47",
   "metadata": {},
   "outputs": [],
   "source": [
    "df.columns = [col.lower() for col in df]\n",
    "ids = df[[\"id\"]]\n",
    "df.drop(\"id\", axis=1, inplace=True)"
   ]
  },
  {
   "cell_type": "code",
   "execution_count": 45,
   "id": "e633f603",
   "metadata": {},
   "outputs": [],
   "source": [
    "df = df[df.select_dtypes(include=\"object\").columns.to_list() + df.select_dtypes(exclude=\"object\").columns.to_list()]"
   ]
  },
  {
   "cell_type": "code",
   "execution_count": 46,
   "id": "ea3484ed",
   "metadata": {},
   "outputs": [],
   "source": [
    "cols_to_drop = ['x11', 'x93', 'x107', 'x233', 'x235', 'x268', 'x289', 'x290', 'x293', 'x297', 'x330', 'x347']"
   ]
  },
  {
   "cell_type": "code",
   "execution_count": 47,
   "id": "d4a612d3",
   "metadata": {},
   "outputs": [],
   "source": [
    "df.drop(cols_to_drop, axis=1, inplace=True)\n",
    "df = df.to_numpy()\n",
    "df[:, :8] = df[:, :8].astype(str)"
   ]
  },
  {
   "cell_type": "code",
   "execution_count": 48,
   "id": "2b3ae108",
   "metadata": {},
   "outputs": [],
   "source": [
    "categorical_features = df[:, :8].astype(str) \n",
    "numerical_features = tf.convert_to_tensor(df[:, 8:].astype(\"float32\"))"
   ]
  },
  {
   "cell_type": "code",
   "execution_count": 49,
   "id": "7c4021f5",
   "metadata": {},
   "outputs": [],
   "source": [
    "model = tf.keras.models.load_model(\"model\")"
   ]
  },
  {
   "cell_type": "code",
   "execution_count": 69,
   "id": "6d5e87ae",
   "metadata": {},
   "outputs": [],
   "source": [
    "lookup_layers = []\n",
    "for i in range(8):\n",
    "    with open(f\"vocabularies/string_lookup_vocab_{i}.txt\", \"r\") as f:\n",
    "        loaded_vocab = [line.strip() for line in f]\n",
    "    new_lookup_layer = tf.keras.layers.StringLookup(vocabulary=loaded_vocab, output_mode=\"one_hot\")\n",
    "    lookup_layers.append(new_lookup_layer)"
   ]
  },
  {
   "cell_type": "code",
   "execution_count": 71,
   "id": "e2764348",
   "metadata": {},
   "outputs": [],
   "source": [
    "test_categorical = lookups_for_one_hot(categorical_features, lookup_layers)\n",
    "\n",
    "test_df = tf.concat([test_categorical, numerical_features], axis=1)"
   ]
  },
  {
   "cell_type": "code",
   "execution_count": 74,
   "id": "eff6322f",
   "metadata": {},
   "outputs": [
    {
     "name": "stdout",
     "output_type": "stream",
     "text": [
      "132/132 [==============================] - 0s 2ms/step\n"
     ]
    }
   ],
   "source": [
    "predictions = model.predict(test_df)"
   ]
  },
  {
   "cell_type": "code",
   "execution_count": 80,
   "id": "f8214f1d",
   "metadata": {},
   "outputs": [],
   "source": [
    "ids[\"y\"] = predictions"
   ]
  },
  {
   "cell_type": "code",
   "execution_count": 83,
   "id": "0fea4246",
   "metadata": {},
   "outputs": [],
   "source": [
    "ids.rename(columns={\"id\":\"ID\"}, inplace=True)"
   ]
  },
  {
   "cell_type": "code",
   "execution_count": 85,
   "id": "7b9ed52d",
   "metadata": {},
   "outputs": [],
   "source": [
    "ids.to_csv(\"submission.csv\", index=False)"
   ]
  },
  {
   "cell_type": "code",
   "execution_count": null,
   "id": "49884888-2a7c-4d5e-aa15-b7d50b50280f",
   "metadata": {},
   "outputs": [],
   "source": []
  }
 ],
 "metadata": {
  "kernelspec": {
   "display_name": "base",
   "language": "python",
   "name": "python3"
  },
  "language_info": {
   "codemirror_mode": {
    "name": "ipython",
    "version": 3
   },
   "file_extension": ".py",
   "mimetype": "text/x-python",
   "name": "python",
   "nbconvert_exporter": "python",
   "pygments_lexer": "ipython3",
   "version": "3.9.20"
  }
 },
 "nbformat": 4,
 "nbformat_minor": 5
}
