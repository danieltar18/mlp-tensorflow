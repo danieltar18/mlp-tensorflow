{
 "cells": [
  {
   "cell_type": "markdown",
   "metadata": {},
   "source": [
    "# Emotions Dataset For NLP\n",
    "\n",
    "## About Dataset\n",
    "Context\n",
    "Collection of documents and its emotions, It helps greatly in NLP Classification tasks\n",
    "\n",
    "## Content\n",
    "List of documents with emotion flag, Dataset is split into train, test & validation for building the machine learning model\n",
    "\n",
    "## Example\n",
    "i feel like I am still looking at a blank canvas blank pieces of paper;sadness\n",
    "\n",
    "## Acknowledgements\n",
    "Elvis Saravia, Hsien-Chi Toby Liu, Yen-Hao Huang, Junlin Wu, and Yi-Shin Chen. 2018. CARER: Contextualized Affect Representations for Emotion Recognition. In Proceedings of the 2018 Conference on Empirical Methods in Natural Language Processing, pages 3687–3697, Brussels, Belgium. Association for Computational Linguistics.\n",
    "\n",
    "https://www.kaggle.com/datasets/praveengovi/emotions-dataset-for-nlp?select=val.txt"
   ]
  },
  {
   "cell_type": "code",
   "execution_count": 1,
   "metadata": {},
   "outputs": [
    {
     "name": "stdout",
     "output_type": "stream",
     "text": [
      "Requirement already satisfied: contractions in c:\\users\\dani\\anaconda3\\lib\\site-packages (0.1.73)\n",
      "Requirement already satisfied: textsearch>=0.0.21 in c:\\users\\dani\\anaconda3\\lib\\site-packages (from contractions) (0.0.24)\n",
      "Requirement already satisfied: anyascii in c:\\users\\dani\\anaconda3\\lib\\site-packages (from textsearch>=0.0.21->contractions) (0.3.2)\n",
      "Requirement already satisfied: pyahocorasick in c:\\users\\dani\\anaconda3\\lib\\site-packages (from textsearch>=0.0.21->contractions) (2.1.0)\n"
     ]
    }
   ],
   "source": [
    "!pip install contractions"
   ]
  },
  {
   "cell_type": "code",
   "execution_count": 2,
   "metadata": {},
   "outputs": [],
   "source": [
    "import pandas as pd\n",
    "import tensorflow as tf\n",
    "import seaborn as sns\n",
    "import matplotlib.pyplot as plt\n",
    "import numpy as np\n",
    "import os\n",
    "import tensorflow.keras.backend as K\n",
    "import itertools\n",
    "import nltk\n",
    "import contractions\n",
    "\n",
    "from functools import partial\n",
    "from sklearn.feature_extraction.text import CountVectorizer\n",
    "from sklearn.model_selection import StratifiedKFold, train_test_split\n",
    "from sklearn.metrics import confusion_matrix, accuracy_score"
   ]
  },
  {
   "cell_type": "code",
   "execution_count": 3,
   "metadata": {},
   "outputs": [
    {
     "name": "stdout",
     "output_type": "stream",
     "text": [
      "Num GPUs Available:  1\n",
      "TensorFlow is using GPU: /physical_device:GPU:0\n"
     ]
    }
   ],
   "source": [
    "physical_devices = tf.config.list_physical_devices('GPU')\n",
    "print(\"Num GPUs Available: \", len(physical_devices))\n",
    "\n",
    "if physical_devices:\n",
    "    print(f\"TensorFlow is using GPU: {physical_devices[0].name}\")\n",
    "else:\n",
    "    print(\"No GPU found. TensorFlow is running on the CPU.\")"
   ]
  },
  {
   "cell_type": "code",
   "execution_count": null,
   "metadata": {},
   "outputs": [],
   "source": [
    "nltk.download('stopwords')\n",
    "nltk.download('punkt_tab')\n",
    "nltk.download('wordnet')"
   ]
  },
  {
   "cell_type": "code",
   "execution_count": 5,
   "metadata": {},
   "outputs": [],
   "source": [
    "def open_txt(file_path):\n",
    "    with open(file_path, \"r\") as file:\n",
    "        lines = file.readlines()\n",
    "        lines = [line.replace(\"\\n\", \"\") for line in lines]\n",
    "\n",
    "    df = pd.DataFrame(lines, columns=[\"emotions\"])\n",
    "    df['emotions'] = df['emotions'].str.split(';')\n",
    "\n",
    "    return pd.DataFrame(df[\"emotions\"].to_list(), columns=['text', 'emotion'])\n"
   ]
  },
  {
   "cell_type": "code",
   "execution_count": 6,
   "metadata": {},
   "outputs": [],
   "source": [
    "df_train = open_txt(\"train/train.txt\")\n",
    "df_val = open_txt(\"val/val.txt\")\n",
    "df_test = open_txt(\"test/test.txt\")"
   ]
  },
  {
   "cell_type": "code",
   "execution_count": 7,
   "metadata": {},
   "outputs": [],
   "source": [
    "# Concat Train and Validation Dataset because of StratifiedKfold\n",
    "df_train = pd.concat([df_train, df_val])"
   ]
  },
  {
   "cell_type": "code",
   "execution_count": 8,
   "metadata": {},
   "outputs": [
    {
     "name": "stdout",
     "output_type": "stream",
     "text": [
      "<class 'pandas.core.frame.DataFrame'>\n",
      "Index: 18000 entries, 0 to 1999\n",
      "Data columns (total 2 columns):\n",
      " #   Column   Non-Null Count  Dtype \n",
      "---  ------   --------------  ----- \n",
      " 0   text     18000 non-null  object\n",
      " 1   emotion  18000 non-null  object\n",
      "dtypes: object(2)\n",
      "memory usage: 421.9+ KB\n"
     ]
    }
   ],
   "source": [
    "df_train.info()"
   ]
  },
  {
   "cell_type": "code",
   "execution_count": 9,
   "metadata": {},
   "outputs": [
    {
     "data": {
      "text/plain": [
       "array(['sadness', 'anger', 'love', 'surprise', 'fear', 'joy'],\n",
       "      dtype=object)"
      ]
     },
     "execution_count": 9,
     "metadata": {},
     "output_type": "execute_result"
    }
   ],
   "source": [
    "df_train.emotion.unique()"
   ]
  },
  {
   "cell_type": "code",
   "execution_count": 10,
   "metadata": {},
   "outputs": [
    {
     "data": {
      "text/html": [
       "<div>\n",
       "<style scoped>\n",
       "    .dataframe tbody tr th:only-of-type {\n",
       "        vertical-align: middle;\n",
       "    }\n",
       "\n",
       "    .dataframe tbody tr th {\n",
       "        vertical-align: top;\n",
       "    }\n",
       "\n",
       "    .dataframe thead th {\n",
       "        text-align: right;\n",
       "    }\n",
       "</style>\n",
       "<table border=\"1\" class=\"dataframe\">\n",
       "  <thead>\n",
       "    <tr style=\"text-align: right;\">\n",
       "      <th></th>\n",
       "      <th>text</th>\n",
       "      <th>emotion</th>\n",
       "    </tr>\n",
       "  </thead>\n",
       "  <tbody>\n",
       "    <tr>\n",
       "      <th>15691</th>\n",
       "      <td>im feeling very sentimental tonight</td>\n",
       "      <td>sadness</td>\n",
       "    </tr>\n",
       "    <tr>\n",
       "      <th>1898</th>\n",
       "      <td>i was back in my hometown feeling unhappy in n...</td>\n",
       "      <td>sadness</td>\n",
       "    </tr>\n",
       "    <tr>\n",
       "      <th>15285</th>\n",
       "      <td>i feel strongly impressed that there must be s...</td>\n",
       "      <td>surprise</td>\n",
       "    </tr>\n",
       "    <tr>\n",
       "      <th>1885</th>\n",
       "      <td>i feel happy about myself hes the reason why i...</td>\n",
       "      <td>joy</td>\n",
       "    </tr>\n",
       "    <tr>\n",
       "      <th>4034</th>\n",
       "      <td>i feel pleased about this issue there are a lo...</td>\n",
       "      <td>joy</td>\n",
       "    </tr>\n",
       "    <tr>\n",
       "      <th>10866</th>\n",
       "      <td>i get the feeling that the relationship would ...</td>\n",
       "      <td>anger</td>\n",
       "    </tr>\n",
       "    <tr>\n",
       "      <th>6113</th>\n",
       "      <td>i like the phrase having submissive feelings t...</td>\n",
       "      <td>sadness</td>\n",
       "    </tr>\n",
       "    <tr>\n",
       "      <th>6223</th>\n",
       "      <td>i feel that branding in college is way more po...</td>\n",
       "      <td>joy</td>\n",
       "    </tr>\n",
       "    <tr>\n",
       "      <th>13713</th>\n",
       "      <td>i don t feel the least bit regretful about it</td>\n",
       "      <td>sadness</td>\n",
       "    </tr>\n",
       "    <tr>\n",
       "      <th>92</th>\n",
       "      <td>when my mums brother passed away after having ...</td>\n",
       "      <td>sadness</td>\n",
       "    </tr>\n",
       "  </tbody>\n",
       "</table>\n",
       "</div>"
      ],
      "text/plain": [
       "                                                    text   emotion\n",
       "15691                im feeling very sentimental tonight   sadness\n",
       "1898   i was back in my hometown feeling unhappy in n...   sadness\n",
       "15285  i feel strongly impressed that there must be s...  surprise\n",
       "1885   i feel happy about myself hes the reason why i...       joy\n",
       "4034   i feel pleased about this issue there are a lo...       joy\n",
       "10866  i get the feeling that the relationship would ...     anger\n",
       "6113   i like the phrase having submissive feelings t...   sadness\n",
       "6223   i feel that branding in college is way more po...       joy\n",
       "13713      i don t feel the least bit regretful about it   sadness\n",
       "92     when my mums brother passed away after having ...   sadness"
      ]
     },
     "execution_count": 10,
     "metadata": {},
     "output_type": "execute_result"
    }
   ],
   "source": [
    "df_train.sample(10)"
   ]
  },
  {
   "cell_type": "code",
   "execution_count": 11,
   "metadata": {},
   "outputs": [
    {
     "data": {
      "image/png": "[encoded data removed]",
      "text/plain": [
       "<Figure size 640x480 with 1 Axes>"
      ]
     },
     "metadata": {},
     "output_type": "display_data"
    }
   ],
   "source": [
    "fig, ax = plt.subplots()\n",
    "ax.set_title(\"Emotions CountPlot\")\n",
    "countplot = sns.countplot(data=df_train, x=\"emotion\", ax=ax)\n",
    "\n",
    "for p in ax.patches:\n",
    "    countplot.annotate(f\"{int(p.get_height())}\", xy=(p.get_x()+0.2, p.get_height()), verticalalignment=\"center\")\n",
    "plt.show()"
   ]
  },
  {
   "cell_type": "code",
   "execution_count": null,
   "metadata": {},
   "outputs": [],
   "source": []
  },
  {
   "cell_type": "markdown",
   "metadata": {},
   "source": [
    "# Format Text"
   ]
  },
  {
   "cell_type": "code",
   "execution_count": 12,
   "metadata": {},
   "outputs": [],
   "source": [
    "def format_text(text):\n",
    "    custom_list = [\"im\"]\n",
    "    stopwords = nltk.corpus.stopwords.words(\"english\")\n",
    "    stopwords.remove(\"not\")\n",
    " \n",
    "    custom_list = [\"im\"]\n",
    "    formatted_text = str(text)\n",
    "    formatted_text = contractions.fix(formatted_text)\n",
    "    formatted_text = nltk.tokenize.word_tokenize(formatted_text)\n",
    "\n",
    "    formatted_text = [\n",
    "        word for word in formatted_text if word.lower() not in stopwords\n",
    "        and word.lower() not in custom_list]\n",
    "    \n",
    "    formatted_text = ' '.join(formatted_text)\n",
    "\n",
    "    return formatted_text.lower().strip()"
   ]
  },
  {
   "cell_type": "code",
   "execution_count": 13,
   "metadata": {},
   "outputs": [],
   "source": [
    "df_train[\"formatted_text\"] = df_train.text.apply(format_text)"
   ]
  },
  {
   "cell_type": "code",
   "execution_count": 389,
   "metadata": {},
   "outputs": [
    {
     "data": {
      "text/html": [
       "<div>\n",
       "<style scoped>\n",
       "    .dataframe tbody tr th:only-of-type {\n",
       "        vertical-align: middle;\n",
       "    }\n",
       "\n",
       "    .dataframe tbody tr th {\n",
       "        vertical-align: top;\n",
       "    }\n",
       "\n",
       "    .dataframe thead th {\n",
       "        text-align: right;\n",
       "    }\n",
       "</style>\n",
       "<table border=\"1\" class=\"dataframe\">\n",
       "  <thead>\n",
       "    <tr style=\"text-align: right;\">\n",
       "      <th></th>\n",
       "      <th>text</th>\n",
       "      <th>emotion</th>\n",
       "      <th>formatted_text</th>\n",
       "    </tr>\n",
       "  </thead>\n",
       "  <tbody>\n",
       "    <tr>\n",
       "      <th>2823</th>\n",
       "      <td>i was feeling as if i am in the lap of the div...</td>\n",
       "      <td>joy</td>\n",
       "      <td>feeling lap divine mother holding soft tender ...</td>\n",
       "    </tr>\n",
       "    <tr>\n",
       "      <th>357</th>\n",
       "      <td>i feel envious and embarrassed</td>\n",
       "      <td>anger</td>\n",
       "      <td>feel envious embarrassed</td>\n",
       "    </tr>\n",
       "    <tr>\n",
       "      <th>1683</th>\n",
       "      <td>i had applied for a job and they had assured m...</td>\n",
       "      <td>anger</td>\n",
       "      <td>applied job assured exams would take place mon...</td>\n",
       "    </tr>\n",
       "    <tr>\n",
       "      <th>11827</th>\n",
       "      <td>i cry at the feeling of the suffering of manki...</td>\n",
       "      <td>sadness</td>\n",
       "      <td>cry feeling suffering mankind let go let pain ...</td>\n",
       "    </tr>\n",
       "    <tr>\n",
       "      <th>464</th>\n",
       "      <td>i always feel like ive been assaulted by his pics</td>\n",
       "      <td>sadness</td>\n",
       "      <td>always feel like assaulted pics</td>\n",
       "    </tr>\n",
       "  </tbody>\n",
       "</table>\n",
       "</div>"
      ],
      "text/plain": [
       "                                                    text  emotion  \\\n",
       "2823   i was feeling as if i am in the lap of the div...      joy   \n",
       "357                       i feel envious and embarrassed    anger   \n",
       "1683   i had applied for a job and they had assured m...    anger   \n",
       "11827  i cry at the feeling of the suffering of manki...  sadness   \n",
       "464    i always feel like ive been assaulted by his pics  sadness   \n",
       "\n",
       "                                          formatted_text  \n",
       "2823   feeling lap divine mother holding soft tender ...  \n",
       "357                             feel envious embarrassed  \n",
       "1683   applied job assured exams would take place mon...  \n",
       "11827  cry feeling suffering mankind let go let pain ...  \n",
       "464                      always feel like assaulted pics  "
      ]
     },
     "execution_count": 389,
     "metadata": {},
     "output_type": "execute_result"
    }
   ],
   "source": [
    "df_train.sample(5)"
   ]
  },
  {
   "cell_type": "code",
   "execution_count": 14,
   "metadata": {},
   "outputs": [],
   "source": [
    "X = tf.convert_to_tensor(df_train.formatted_text, dtype=tf.string)\n",
    "y = tf.convert_to_tensor(df_train.emotion, dtype=tf.string)"
   ]
  },
  {
   "cell_type": "code",
   "execution_count": 15,
   "metadata": {},
   "outputs": [],
   "source": [
    "y_int = tf.identity(y) #return same tensor"
   ]
  },
  {
   "cell_type": "code",
   "execution_count": 16,
   "metadata": {},
   "outputs": [],
   "source": [
    "string_lookup_layer = tf.keras.layers.StringLookup(\n",
    "    max_tokens=None,\n",
    "    num_oov_indices=1,\n",
    "    mask_token=None,\n",
    "    oov_token='[UNK]',\n",
    "    vocabulary=None,\n",
    "    idf_weights=None,\n",
    "    invert=False,\n",
    "    output_mode='int',\n",
    "    name=\"string_lookup_layer\"\n",
    ")"
   ]
  },
  {
   "cell_type": "code",
   "execution_count": 17,
   "metadata": {},
   "outputs": [],
   "source": [
    "string_lookup_layer.adapt(y_int)\n",
    "y_int = string_lookup_layer(y_int)"
   ]
  },
  {
   "cell_type": "code",
   "execution_count": null,
   "metadata": {},
   "outputs": [],
   "source": []
  },
  {
   "cell_type": "code",
   "execution_count": null,
   "metadata": {},
   "outputs": [],
   "source": []
  },
  {
   "cell_type": "markdown",
   "metadata": {},
   "source": [
    "# MLP"
   ]
  },
  {
   "cell_type": "code",
   "execution_count": 18,
   "metadata": {},
   "outputs": [],
   "source": [
    "def build_up_model(hidden_layers_list, text_vectorization_layer, lr=float, vocab_size=20000, embedding_dim=16):\n",
    "\n",
    "    model = tf.keras.models.Sequential(name=\"sequential_model\")\n",
    "    model.add(text_vectorization_layer)   \n",
    "    model.add(tf.keras.layers.Embedding(vocab_size, embedding_dim, name=\"embedding\"))\n",
    "    model.add(tf.keras.layers.GlobalAveragePooling1D())\n",
    "    \n",
    "    for attribute in hidden_layers_list:\n",
    "        if isinstance(attribute, int):\n",
    "            model.add(tf.keras.layers.Dense(attribute, activation=\"relu\"))\n",
    "        else:\n",
    "            model.add(tf.keras.layers.Dropout(attribute))\n",
    "    \n",
    "    model.add(tf.keras.layers.Dense(6, activation=\"softmax\")) # 6 class\n",
    "\n",
    "    model.compile(\n",
    "    optimizer=tf.optimizers.Adam(learning_rate=lr),\n",
    "    loss=tf.losses.SparseCategoricalCrossentropy(),\n",
    "    metrics=['accuracy']\n",
    "    )\n",
    "\n",
    "    return model"
   ]
  },
  {
   "cell_type": "code",
   "execution_count": 19,
   "metadata": {},
   "outputs": [],
   "source": [
    "skf = StratifiedKFold(n_splits=5)"
   ]
  },
  {
   "cell_type": "code",
   "execution_count": 20,
   "metadata": {},
   "outputs": [],
   "source": [
    "learning_rates = [0.0001, 0.001, 0.01]\n",
    "batch_sizes = [16, 32]\n",
    "epochs_list = [10, 25]\n",
    "hidden_layers_list = [(64, 32), (64, 0.2, 32)]\n",
    "\n",
    "param_grid = list(itertools.product(hidden_layers_list, learning_rates, batch_sizes, epochs_list))"
   ]
  },
  {
   "cell_type": "code",
   "execution_count": 21,
   "metadata": {},
   "outputs": [],
   "source": [
    "parameters = []\n",
    "accuracies = []"
   ]
  },
  {
   "cell_type": "code",
   "execution_count": 22,
   "metadata": {},
   "outputs": [],
   "source": [
    "vocab_size = 10000\n",
    "embedding_dim = 100\n",
    "sequence_length = 50"
   ]
  },
  {
   "cell_type": "code",
   "execution_count": null,
   "metadata": {},
   "outputs": [],
   "source": [
    "for params in param_grid:\n",
    "\n",
    "    hidden_layers, lr, batch_size, epoch = params\n",
    "    parameters.append(params)\n",
    "\n",
    "    current_param_accuracies = []\n",
    "\n",
    "    for train_idx, val_idx in skf.split(X, y_int): # y_int needed because of stratified fold\n",
    "        \n",
    "        X_train, y_train = tf.gather(X, train_idx), tf.gather(y, train_idx)\n",
    "        X_val, y_val = tf.gather(X, val_idx), tf.gather(y, val_idx)\n",
    "\n",
    "        string_lookup_layer = tf.keras.layers.StringLookup(\n",
    "            num_oov_indices=0, # set to 0, because if it is 1 then 7 class will be at the softmax!\n",
    "            oov_token='[UNK]',\n",
    "            output_mode='int',\n",
    "            name=\"string_lookup_layer\"\n",
    "        )\n",
    "\n",
    "        string_lookup_layer.adapt(y_train)\n",
    "        y_train, y_val = string_lookup_layer(y_train), string_lookup_layer(y_val)\n",
    "        vocab = string_lookup_layer.get_vocabulary()\n",
    "\n",
    "        text_vectorization_layer = tf.keras.layers.TextVectorization(\n",
    "            standardize='lower_and_strip_punctuation',\n",
    "            max_tokens=vocab_size,\n",
    "            output_sequence_length=sequence_length,\n",
    "            output_mode='int',\n",
    "            name=\"text_vectorizer_layer\",\n",
    "\n",
    "        )\n",
    "        text_vectorization_layer.adapt(X_train)\n",
    "\n",
    "        model = build_up_model(hidden_layers, text_vectorization_layer, lr=lr, vocab_size=vocab_size, embedding_dim=embedding_dim)\n",
    "\n",
    "        history = model.fit(\n",
    "            X_train,\n",
    "            y_train,\n",
    "            epochs=epoch,\n",
    "            batch_size=batch_size,\n",
    "            validation_data=(X_val, y_val)\n",
    "        )\n",
    "\n",
    "        predictions = model.predict(X_val)\n",
    "\n",
    "        predicted_labels = tf.cast(tf.argmax(predictions, axis=1), tf.float16)\n",
    "\n",
    "        current_param_accuracies.append(accuracy_score(y_val, predicted_labels))\n",
    "\n",
    "        del model, string_lookup_layer, text_vectorization_layer\n",
    "        K.clear_session()\n",
    "    \n",
    "    mean_accuracy = np.mean(current_param_accuracies)\n",
    "    accuracies.append(mean_accuracy)"
   ]
  },
  {
   "cell_type": "code",
   "execution_count": 26,
   "metadata": {},
   "outputs": [
    {
     "data": {
      "text/plain": [
       "((64, 0.2, 32), 0.001, 32, 10)"
      ]
     },
     "execution_count": 26,
     "metadata": {},
     "output_type": "execute_result"
    }
   ],
   "source": [
    "parameters[np.argmax(np.array(accuracies))]"
   ]
  },
  {
   "cell_type": "code",
   "execution_count": 27,
   "metadata": {},
   "outputs": [
    {
     "data": {
      "text/plain": [
       "0.857"
      ]
     },
     "execution_count": 27,
     "metadata": {},
     "output_type": "execute_result"
    }
   ],
   "source": [
    "accuracies[np.argmax(np.array(accuracies))]"
   ]
  },
  {
   "cell_type": "code",
   "execution_count": 28,
   "metadata": {},
   "outputs": [],
   "source": [
    "best_parameters = ((64, 0.2, 32), 0.001, 32, 10)"
   ]
  },
  {
   "cell_type": "code",
   "execution_count": null,
   "metadata": {},
   "outputs": [],
   "source": []
  },
  {
   "cell_type": "markdown",
   "metadata": {},
   "source": [
    "## Best Params Test"
   ]
  },
  {
   "cell_type": "code",
   "execution_count": 29,
   "metadata": {},
   "outputs": [],
   "source": [
    "vocab_size = 10000\n",
    "embedding_dim = 100\n",
    "sequence_length = 50"
   ]
  },
  {
   "cell_type": "code",
   "execution_count": 30,
   "metadata": {},
   "outputs": [],
   "source": [
    "train_ds, val_ds, train_labels, val_labels = train_test_split(X.numpy(), y.numpy(), test_size=0.2, stratify=y_int.numpy(), random_state=42)"
   ]
  },
  {
   "cell_type": "code",
   "execution_count": 31,
   "metadata": {},
   "outputs": [],
   "source": [
    "train_ds, train_labels =  tf.convert_to_tensor(train_ds),  tf.convert_to_tensor(train_labels)\n",
    "val_ds, val_labels = tf.convert_to_tensor(val_ds),  tf.convert_to_tensor(val_labels)"
   ]
  },
  {
   "cell_type": "code",
   "execution_count": 32,
   "metadata": {},
   "outputs": [],
   "source": [
    "string_lookup_layer = tf.keras.layers.StringLookup(\n",
    "    num_oov_indices=0, # set to 0, because if it is 1 then 7 class will be at the softmax!\n",
    "    oov_token='[UNK]',\n",
    "    output_mode='int',\n",
    "    name=\"string_lookup_layer\"\n",
    ")"
   ]
  },
  {
   "cell_type": "code",
   "execution_count": 33,
   "metadata": {},
   "outputs": [],
   "source": [
    "string_lookup_layer.adapt(train_labels)\n",
    "train_labels, val_labels = string_lookup_layer(train_labels), string_lookup_layer(val_labels)\n",
    "vocab = string_lookup_layer.get_vocabulary()"
   ]
  },
  {
   "cell_type": "code",
   "execution_count": 34,
   "metadata": {},
   "outputs": [],
   "source": [
    "text_vectorization_layer = tf.keras.layers.TextVectorization(\n",
    "    standardize='lower_and_strip_punctuation',\n",
    "    max_tokens=vocab_size,\n",
    "    output_sequence_length=sequence_length,\n",
    "    output_mode='int',\n",
    "    name=\"text_vectorizer_layer\",\n",
    ")\n",
    "\n",
    "text_vectorization_layer.adapt(train_ds)"
   ]
  },
  {
   "cell_type": "code",
   "execution_count": 35,
   "metadata": {},
   "outputs": [],
   "source": [
    "hidden_layers, lr, batch_size, epoch = best_parameters"
   ]
  },
  {
   "cell_type": "code",
   "execution_count": 40,
   "metadata": {},
   "outputs": [
    {
     "name": "stdout",
     "output_type": "stream",
     "text": [
      "Epoch 1/10\n",
      "450/450 [==============================] - 5s 8ms/step - loss: 1.5765 - accuracy: 0.3342 - val_loss: 1.5150 - val_accuracy: 0.3378\n",
      "Epoch 2/10\n",
      "450/450 [==============================] - 4s 9ms/step - loss: 0.9906 - accuracy: 0.6240 - val_loss: 0.6880 - val_accuracy: 0.7561\n",
      "Epoch 3/10\n",
      "450/450 [==============================] - 3s 8ms/step - loss: 0.4279 - accuracy: 0.8551 - val_loss: 0.4763 - val_accuracy: 0.8450\n",
      "Epoch 4/10\n",
      "450/450 [==============================] - 3s 8ms/step - loss: 0.2325 - accuracy: 0.9281 - val_loss: 0.4025 - val_accuracy: 0.8669\n",
      "Epoch 5/10\n",
      "450/450 [==============================] - 4s 8ms/step - loss: 0.1634 - accuracy: 0.9510 - val_loss: 0.4148 - val_accuracy: 0.8744\n",
      "Epoch 6/10\n",
      "450/450 [==============================] - 3s 7ms/step - loss: 0.1208 - accuracy: 0.9622 - val_loss: 0.5138 - val_accuracy: 0.8592\n",
      "Epoch 7/10\n",
      "450/450 [==============================] - 3s 7ms/step - loss: 0.0962 - accuracy: 0.9716 - val_loss: 0.4555 - val_accuracy: 0.8692\n",
      "Epoch 8/10\n",
      "450/450 [==============================] - 4s 8ms/step - loss: 0.0811 - accuracy: 0.9749 - val_loss: 0.4908 - val_accuracy: 0.8664\n",
      "Epoch 9/10\n",
      "450/450 [==============================] - 4s 10ms/step - loss: 0.0709 - accuracy: 0.9780 - val_loss: 0.6105 - val_accuracy: 0.8572\n",
      "Epoch 10/10\n",
      "450/450 [==============================] - 3s 7ms/step - loss: 0.0638 - accuracy: 0.9803 - val_loss: 0.5525 - val_accuracy: 0.8636\n"
     ]
    }
   ],
   "source": [
    "model = build_up_model(hidden_layers, text_vectorization_layer, lr=lr, vocab_size=vocab_size, embedding_dim=embedding_dim)\n",
    "\n",
    "history = model.fit(\n",
    "    train_ds,\n",
    "    train_labels,\n",
    "    epochs=epoch,\n",
    "    batch_size=batch_size,\n",
    "    validation_data=(val_ds, val_labels)\n",
    ")"
   ]
  },
  {
   "cell_type": "code",
   "execution_count": 41,
   "metadata": {},
   "outputs": [
    {
     "data": {
      "image/png": "[encoded data removed]",
      "text/plain": [
       "<IPython.core.display.Image object>"
      ]
     },
     "execution_count": 41,
     "metadata": {},
     "output_type": "execute_result"
    }
   ],
   "source": [
    "tf.keras.utils.plot_model(model)"
   ]
  },
  {
   "cell_type": "code",
   "execution_count": 42,
   "metadata": {},
   "outputs": [
    {
     "data": {
      "image/png": "[encoded data removed]",
      "text/plain": [
       "<Figure size 640x480 with 1 Axes>"
      ]
     },
     "metadata": {},
     "output_type": "display_data"
    }
   ],
   "source": [
    "plt.plot(history.history['loss'], label='Training loss')\n",
    "plt.plot(history.history['val_loss'], label='Validation loss')\n",
    "plt.legend()\n",
    "plt.show()"
   ]
  },
  {
   "cell_type": "code",
   "execution_count": 43,
   "metadata": {},
   "outputs": [
    {
     "name": "stdout",
     "output_type": "stream",
     "text": [
      "113/113 [==============================] - 0s 3ms/step\n"
     ]
    }
   ],
   "source": [
    "predictions = model.predict(val_ds)\n",
    "predicted_labels = tf.cast(tf.argmax(predictions, axis=1), tf.float16)"
   ]
  },
  {
   "cell_type": "code",
   "execution_count": 44,
   "metadata": {},
   "outputs": [],
   "source": [
    "embedding_weights = model.get_layer('embedding').get_weights()[0]\n",
    "text_vect_vocab = text_vectorization_layer.get_vocabulary()"
   ]
  },
  {
   "cell_type": "code",
   "execution_count": 45,
   "metadata": {},
   "outputs": [],
   "source": [
    "out_v = open('vectors.tsv', 'w', encoding='utf-8')\n",
    "out_m = open('metadata.tsv', 'w', encoding='utf-8')\n",
    "\n",
    "for index, word in enumerate(text_vect_vocab):\n",
    "  if index == 0:\n",
    "    continue  # skip 0, it's padding.\n",
    "  vec = embedding_weights[index]\n",
    "  out_v.write('\\t'.join([str(x) for x in vec]) + \"\\n\")\n",
    "  out_m.write(word + \"\\n\")\n",
    "out_v.close()\n",
    "out_m.close()"
   ]
  },
  {
   "cell_type": "code",
   "execution_count": 46,
   "metadata": {},
   "outputs": [
    {
     "data": {
      "text/plain": [
       "<tf.Tensor: shape=(3600,), dtype=float16, numpy=array([0., 0., 0., ..., 0., 2., 0.], dtype=float16)>"
      ]
     },
     "execution_count": 46,
     "metadata": {},
     "output_type": "execute_result"
    }
   ],
   "source": [
    "predicted_labels"
   ]
  },
  {
   "cell_type": "code",
   "execution_count": 47,
   "metadata": {},
   "outputs": [
    {
     "data": {
      "text/plain": [
       "<tf.Tensor: shape=(3600,), dtype=int64, numpy=array([4, 5, 0, ..., 0, 2, 0], dtype=int64)>"
      ]
     },
     "execution_count": 47,
     "metadata": {},
     "output_type": "execute_result"
    }
   ],
   "source": [
    "val_labels"
   ]
  },
  {
   "cell_type": "code",
   "execution_count": 48,
   "metadata": {},
   "outputs": [],
   "source": [
    "cm = confusion_matrix(val_labels, predicted_labels)\n",
    "accuracy = accuracy_score(val_labels, predicted_labels)"
   ]
  },
  {
   "cell_type": "code",
   "execution_count": 49,
   "metadata": {},
   "outputs": [],
   "source": [
    "decoder = tf.keras.layers.StringLookup(\n",
    "        vocabulary=vocab,\n",
    "        invert=True,\n",
    "    )"
   ]
  },
  {
   "cell_type": "code",
   "execution_count": 50,
   "metadata": {},
   "outputs": [
    {
     "data": {
      "image/png": "[encoded data removed]",
      "text/plain": [
       "<Figure size 500x300 with 2 Axes>"
      ]
     },
     "metadata": {},
     "output_type": "display_data"
    },
    {
     "name": "stdout",
     "output_type": "stream",
     "text": [
      "Validation Accuracy: 0.8636\n"
     ]
    }
   ],
   "source": [
    "class_labels = decoder([1, 2, 3, 4, 5, 6]).numpy().astype(str)\n",
    "plt.figure(figsize=(5, 3))\n",
    "sns.heatmap(cm, annot=True, fmt='d', cmap='Blues', xticklabels=class_labels, yticklabels=class_labels)\n",
    "plt.title('Confusion Matrix')\n",
    "plt.ylabel('True label')\n",
    "plt.xlabel('Predicted label')\n",
    "plt.show()\n",
    "\n",
    "print(f\"Validation Accuracy: {accuracy:.4f}\")"
   ]
  },
  {
   "cell_type": "code",
   "execution_count": 51,
   "metadata": {},
   "outputs": [
    {
     "name": "stdout",
     "output_type": "stream",
     "text": [
      "Class joy:\n",
      "  Precision: 0.8841\n",
      "  Recall: 0.9184\n",
      "  F1-score: 0.9009\n",
      "Class sadness:\n",
      "  Precision: 0.9003\n",
      "  Recall: 0.9089\n",
      "  F1-score: 0.9046\n",
      "Class anger:\n",
      "  Precision: 0.8868\n",
      "  Recall: 0.8522\n",
      "  F1-score: 0.8691\n",
      "Class fear:\n",
      "  Precision: 0.8070\n",
      "  Recall: 0.8070\n",
      "  F1-score: 0.8070\n",
      "Class love:\n",
      "  Precision: 0.7658\n",
      "  Recall: 0.6959\n",
      "  F1-score: 0.7292\n",
      "Class surprise:\n",
      "  Precision: 0.6583\n",
      "  Recall: 0.6031\n",
      "  F1-score: 0.6295\n",
      "\n",
      "Macro-average F1-score: 0.8067\n"
     ]
    }
   ],
   "source": [
    "precision = cm.diagonal() / cm.sum(axis=0)\n",
    "recall = cm.diagonal() / cm.sum(axis=1)\n",
    "f1_score = 2 * (precision * recall) / (precision + recall)\n",
    "output_nodes = 6\n",
    "\n",
    "for i in range(output_nodes):\n",
    "    print(f\"Class {class_labels[i]}:\")\n",
    "    print(f\"  Precision: {precision[i]:.4f}\")\n",
    "    print(f\"  Recall: {recall[i]:.4f}\")\n",
    "    print(f\"  F1-score: {f1_score[i]:.4f}\")\n",
    "\n",
    "print(f\"\\nMacro-average F1-score: {np.mean(f1_score):.4f}\")"
   ]
  },
  {
   "cell_type": "code",
   "execution_count": 52,
   "metadata": {},
   "outputs": [],
   "source": [
    "accurate_predictions_mask = tf.equal(val_labels, tf.cast(predicted_labels, tf.int64))"
   ]
  },
  {
   "cell_type": "code",
   "execution_count": 80,
   "metadata": {},
   "outputs": [
    {
     "name": "stdout",
     "output_type": "stream",
     "text": [
      "wanted avoid feeling rushed | Actual label: anger | Predicted Label: anger\n",
      "feeling little bit melancholy tonight | Actual label: sadness | Predicted Label: sadness\n",
      "not feel threatened | Actual label: fear | Predicted Label: fear\n",
      "feel really disgusted pain agony | Actual label: anger | Predicted Label: anger\n",
      "feeling one calmer states past month pleasant | Actual label: joy | Predicted Label: joy\n",
      "seeing sausage made rather feeling appalled broadening understanding makes good book | Actual label: anger | Predicted Label: anger\n",
      "spent wednesday feeling miserable | Actual label: sadness | Predicted Label: sadness\n",
      "got sick feeling stomach blog post cute laundry room dryers going | Actual label: joy | Predicted Label: joy\n",
      "feel write truly innocent even though quite bit feeling involved | Actual label: joy | Predicted Label: joy\n",
      "feel troubled ongoing relocation front door | Actual label: sadness | Predicted Label: sadness\n"
     ]
    }
   ],
   "source": [
    "for i in range(10):\n",
    "    random_idx = np.random.choice(np.where(accurate_predictions_mask.numpy() == True)[0])\n",
    "    print(f\"{val_ds[random_idx].numpy().decode('utf-8')} | Actual label: {decoder(val_labels[random_idx].numpy()+1).numpy().decode('utf-8')} | Predicted Label: {decoder(predicted_labels[random_idx].numpy()+1).numpy().decode('utf-8')}\")"
   ]
  },
  {
   "cell_type": "code",
   "execution_count": null,
   "metadata": {},
   "outputs": [],
   "source": []
  },
  {
   "cell_type": "code",
   "execution_count": null,
   "metadata": {},
   "outputs": [],
   "source": []
  }
 ],
 "metadata": {
  "kernelspec": {
   "display_name": "base",
   "language": "python",
   "name": "python3"
  },
  "language_info": {
   "codemirror_mode": {
    "name": "ipython",
    "version": 3
   },
   "file_extension": ".py",
   "mimetype": "text/x-python",
   "name": "python",
   "nbconvert_exporter": "python",
   "pygments_lexer": "ipython3",
   "version": "3.9.20"
  }
 },
 "nbformat": 4,
 "nbformat_minor": 2
}
